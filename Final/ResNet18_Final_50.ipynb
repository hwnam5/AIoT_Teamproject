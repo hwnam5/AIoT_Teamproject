{
  "cells": [
    {
      "cell_type": "code",
      "source": [
        "!pip install pynvml"
      ],
      "metadata": {
        "id": "c1UXBZ2kzoX1",
        "colab": {
          "base_uri": "https://localhost:8080/"
        },
        "outputId": "d5f39500-d20c-4daa-b07b-f936257d4dda"
      },
      "execution_count": 1,
      "outputs": [
        {
          "output_type": "stream",
          "name": "stdout",
          "text": [
            "Collecting pynvml\n",
            "  Downloading pynvml-12.0.0-py3-none-any.whl.metadata (5.4 kB)\n",
            "Collecting nvidia-ml-py<13.0.0a0,>=12.0.0 (from pynvml)\n",
            "  Downloading nvidia_ml_py-12.560.30-py3-none-any.whl.metadata (8.6 kB)\n",
            "Downloading pynvml-12.0.0-py3-none-any.whl (26 kB)\n",
            "Downloading nvidia_ml_py-12.560.30-py3-none-any.whl (40 kB)\n",
            "\u001b[2K   \u001b[90m━━━━━━━━━━━━━━━━━━━━━━━━━━━━━━━━━━━━━━━━\u001b[0m \u001b[32m40.5/40.5 kB\u001b[0m \u001b[31m2.0 MB/s\u001b[0m eta \u001b[36m0:00:00\u001b[0m\n",
            "\u001b[?25hInstalling collected packages: nvidia-ml-py, pynvml\n",
            "Successfully installed nvidia-ml-py-12.560.30 pynvml-12.0.0\n"
          ]
        }
      ]
    },
    {
      "cell_type": "code",
      "execution_count": 2,
      "metadata": {
        "id": "iR74754xWIR3"
      },
      "outputs": [],
      "source": [
        "import torch\n",
        "import torch.nn as nn\n",
        "import torch.nn.functional as F\n",
        "import torch.optim as optim\n",
        "import torch.utils.data as data\n",
        "import torchvision\n",
        "import torchvision.transforms as transforms\n",
        "import torchvision.datasets as datasets\n",
        "import torchvision.models as models\n",
        "from torch.profiler import profile, record_function, ProfilerActivity, tensorboard_trace_handler\n",
        "import torch.utils.checkpoint as checkpoint\n",
        "\n",
        "import matplotlib.pyplot as plt\n",
        "import numpy as np\n",
        "\n",
        "import copy\n",
        "from collections import namedtuple\n",
        "import time\n",
        "import os\n",
        "import random\n",
        "import re\n",
        "\n",
        "import cv2\n",
        "from torch.utils.data import Dataset, DataLoader, Subset\n",
        "from PIL import Image\n",
        "\n",
        "from tqdm import tqdm\n",
        "from pynvml import *\n",
        "import pandas as pd\n",
        "\n",
        "device = torch.device(\"cuda:0\" if torch.cuda.is_available() else \"cpu\")"
      ]
    },
    {
      "cell_type": "code",
      "source": [
        "def print_gpu_utilization():\n",
        "    if torch.cuda.is_available():\n",
        "        device = torch.cuda.current_device()  # 현재 GPU 디바이스 정보\n",
        "        allocated_memory = torch.cuda.memory_allocated(device) / 1024**3  # 메모리 사용량 (GB)\n",
        "        reserved_memory = torch.cuda.memory_reserved(device) / 1024**3  # 예약된 메모리 (GB)\n",
        "        print(f\"Allocated Memory: {allocated_memory:.2f} GB\")\n",
        "        print(f\"Reserved Memory: {reserved_memory:.2f} GB\")\n",
        "    else:\n",
        "        print(\"No GPU available.\")"
      ],
      "metadata": {
        "id": "KutboPCzza4_"
      },
      "execution_count": 3,
      "outputs": []
    },
    {
      "cell_type": "code",
      "source": [
        "def print_summary(result):\n",
        "    print(f\"Time: {result.metrics['train_runtime']:.2f}\")\n",
        "    print(f\"Samples/second: {result.metrics['train_samples_per_second']:.2f}\")\n",
        "    print_gpu_utilization()"
      ],
      "metadata": {
        "id": "_8xbvf80zvjG"
      },
      "execution_count": 4,
      "outputs": []
    },
    {
      "cell_type": "code",
      "execution_count": 5,
      "metadata": {
        "id": "ntBtU40OWIR5"
      },
      "outputs": [],
      "source": [
        "size = 224\n",
        "mean = (0.485, 0.456, 0.406)\n",
        "std = (0.229, 0.224, 0.225)\n",
        "batch_size = 32"
      ]
    },
    {
      "cell_type": "code",
      "execution_count": 6,
      "metadata": {
        "id": "NkTBa1iCWIR5"
      },
      "outputs": [],
      "source": [
        "train_transforms = transforms.Compose([\n",
        "    transforms.RandomResizedCrop(size, scale=(0.5, 1.0)),\n",
        "    transforms.RandomHorizontalFlip(),\n",
        "    transforms.ToTensor(),\n",
        "    transforms.Normalize(mean, std)\n",
        "])\n",
        "\n",
        "test_transforms = transforms.Compose([\n",
        "    transforms.Resize(256),\n",
        "    transforms.CenterCrop(size),\n",
        "    transforms.ToTensor(),\n",
        "    transforms.Normalize(mean, std)\n",
        "])"
      ]
    },
    {
      "cell_type": "code",
      "execution_count": 7,
      "metadata": {
        "id": "68SaArxkWIR5",
        "colab": {
          "base_uri": "https://localhost:8080/"
        },
        "outputId": "f45267f2-feb9-4e92-f8b2-590b39c26da4"
      },
      "outputs": [
        {
          "output_type": "stream",
          "name": "stdout",
          "text": [
            "Downloading https://www.cs.toronto.edu/~kriz/cifar-10-python.tar.gz to ./data/cifar-10-python.tar.gz\n"
          ]
        },
        {
          "output_type": "stream",
          "name": "stderr",
          "text": [
            "100%|██████████| 170M/170M [00:02<00:00, 78.3MB/s]\n"
          ]
        },
        {
          "output_type": "stream",
          "name": "stdout",
          "text": [
            "Extracting ./data/cifar-10-python.tar.gz to ./data\n",
            "Files already downloaded and verified\n"
          ]
        }
      ],
      "source": [
        "# CIFAR-10\n",
        "trainset = datasets.CIFAR10(root='./data', train=True, download=True, transform=train_transforms)\n",
        "trainloader = DataLoader(trainset, batch_size=batch_size, shuffle=True)\n",
        "\n",
        "testset = datasets.CIFAR10(root='./data', train=False, download=True, transform=test_transforms)\n",
        "testloader = DataLoader(testset, batch_size=batch_size, shuffle=False)"
      ]
    },
    {
      "cell_type": "code",
      "execution_count": 8,
      "metadata": {
        "id": "HISYmEIlWIR6"
      },
      "outputs": [],
      "source": [
        "VALID_RATIO = 0.7\n",
        "n_train_examples = int(len(trainset) * VALID_RATIO)\n",
        "n_valid_examples = len(trainset) - n_train_examples\n",
        "\n",
        "train_data, valid_data = data.random_split(trainset, [n_train_examples, n_valid_examples])"
      ]
    },
    {
      "cell_type": "code",
      "execution_count": 9,
      "metadata": {
        "id": "nKkwwymDWIR6"
      },
      "outputs": [],
      "source": [
        "valid_data = copy.deepcopy(valid_data)\n",
        "valid_data.dataset.transform = test_transforms"
      ]
    },
    {
      "cell_type": "code",
      "execution_count": 10,
      "metadata": {
        "id": "2kZE0KyvWIR6",
        "colab": {
          "base_uri": "https://localhost:8080/"
        },
        "outputId": "9174eb17-7721-4ac1-d540-3ee927a60348"
      },
      "outputs": [
        {
          "output_type": "execute_result",
          "data": {
            "text/plain": [
              "(35000, 15000, 10000)"
            ]
          },
          "metadata": {},
          "execution_count": 10
        }
      ],
      "source": [
        "len(train_data), len(valid_data), len(testset)"
      ]
    },
    {
      "cell_type": "code",
      "execution_count": 11,
      "metadata": {
        "id": "NgFbnxO2WIR7"
      },
      "outputs": [],
      "source": [
        "sample_fraction = 0.2\n",
        "\n",
        "# 무작위 인덱스 생성\n",
        "train_indices = torch.randperm(len(trainset))[:int(len(trainset) * sample_fraction)]\n",
        "valid_indices = torch.randperm(len(valid_data))[:int(len(valid_data) * sample_fraction)]\n",
        "test_indices = torch.randperm(len(testset))[:int(len(testset) * sample_fraction)]\n",
        "\n",
        "# 서브셋 생성\n",
        "train_subset = Subset(trainset, train_indices)\n",
        "valid_subset = Subset(valid_data, valid_indices)\n",
        "test_subset = Subset(testset, test_indices)"
      ]
    },
    {
      "cell_type": "code",
      "execution_count": 12,
      "metadata": {
        "id": "-UMCcWRjWIR7",
        "colab": {
          "base_uri": "https://localhost:8080/"
        },
        "outputId": "92042ecd-fb7d-4969-f40f-591eb3ef33b3"
      },
      "outputs": [
        {
          "output_type": "execute_result",
          "data": {
            "text/plain": [
              "(10000, 3000, 2000)"
            ]
          },
          "metadata": {},
          "execution_count": 12
        }
      ],
      "source": [
        "len(train_subset), len(valid_subset), len(test_subset)"
      ]
    },
    {
      "cell_type": "code",
      "execution_count": 13,
      "metadata": {
        "id": "KIuqCxeGWIR7"
      },
      "outputs": [],
      "source": [
        "train_iterator = DataLoader(train_subset, batch_size=batch_size, shuffle=True)\n",
        "valid_iterator = DataLoader(valid_subset, batch_size=batch_size, shuffle=False)\n",
        "test_iterator = DataLoader(test_subset, batch_size=batch_size, shuffle=False)"
      ]
    },
    {
      "cell_type": "code",
      "execution_count": 14,
      "metadata": {
        "id": "6mVcfuK7WIR7"
      },
      "outputs": [],
      "source": [
        "class BasicBlock(nn.Module):\n",
        "    expansion = 1\n",
        "\n",
        "    def __init__(self, in_channels, out_channels, stride=1, downsample = False):\n",
        "        super(BasicBlock, self).__init__()\n",
        "        self.conv1 = nn.Conv2d(in_channels, out_channels, kernel_size=3, stride=stride, padding=1, bias=False)\n",
        "        self.bn1 = nn.BatchNorm2d(out_channels)\n",
        "        self.conv2 = nn.Conv2d(out_channels, out_channels, kernel_size=3, stride=1, padding=1, bias=False)\n",
        "        self.bn2 = nn.BatchNorm2d(out_channels)\n",
        "        self.relu = nn.ReLU(inplace=True)\n",
        "\n",
        "        if downsample:\n",
        "            conv = nn.Conv2d(in_channels, out_channels, kernel_size=1, stride=stride, bias=False)\n",
        "            bn = nn.BatchNorm2d(out_channels)\n",
        "            downsample = nn.Sequential(conv, bn)\n",
        "        else:\n",
        "            downsample = None\n",
        "        self.downsample = downsample\n",
        "\n",
        "    def forward(self, x):\n",
        "        i = x\n",
        "        x = self.conv1(x)\n",
        "        x = self.bn1(x)\n",
        "        x = self.relu(x)\n",
        "        x = self.conv2(x)\n",
        "        x = self.bn2(x)\n",
        "\n",
        "        if self.downsample is not None:\n",
        "            i = self.downsample(i)\n",
        "\n",
        "        x += i\n",
        "        x = self.relu(x)\n",
        "\n",
        "        return x"
      ]
    },
    {
      "cell_type": "code",
      "execution_count": 15,
      "metadata": {
        "id": "Ijsu-aH8WIR7"
      },
      "outputs": [],
      "source": [
        "class ResNet(nn.Module):\n",
        "    def __init__(self, config, output_dim, zero_init_residual = False):\n",
        "        super().__init__()\n",
        "\n",
        "        block, n_blocks, channels = config\n",
        "        self.in_channels = channels[0]\n",
        "        assert len(n_blocks) == len(channels) == 4\n",
        "\n",
        "        self.conv1 = nn.Conv2d(3, self.in_channels, kernel_size=7, stride=2, padding=3, bias=False)\n",
        "        self.bn1 = nn.BatchNorm2d(self.in_channels)\n",
        "        self.relu = nn.ReLU(inplace=True)\n",
        "        self.maxpool = nn.MaxPool2d(kernel_size=3, stride=2, padding=1)\n",
        "\n",
        "        self.layer1 = self.get_resnet_layer(block, n_blocks[0], channels[0])\n",
        "        self.layer2 = self.get_resnet_layer(block, n_blocks[1], channels[1], stride=2)\n",
        "        self.layer3 = self.get_resnet_layer(block, n_blocks[2], channels[2], stride=2)\n",
        "        self.layer4 = self.get_resnet_layer(block, n_blocks[3], channels[3], stride=2)\n",
        "\n",
        "        self.avgpool = nn.AdaptiveAvgPool2d((1, 1))\n",
        "        self.fc = nn.Linear(self.in_channels, output_dim)\n",
        "\n",
        "        if zero_init_residual:\n",
        "            for m in self.modules():\n",
        "                if isinstance(m, BasicBlock):\n",
        "                    nn.init.constant_(m.bn2.weight, 0)\n",
        "                #elif isinstance(m, Bottleneck):\n",
        "                    #nn.init.constant_(m.bn3.weight, 0)\n",
        "\n",
        "    def get_resnet_layer(self, block, n_blocks, channels, stride=1):\n",
        "        layers = []\n",
        "        if self.in_channels != block.expansion * channels:\n",
        "            downsample = True\n",
        "        else:\n",
        "            downsample = False\n",
        "        layers.append(block(self.in_channels, channels, stride, downsample))\n",
        "        for i in range(1, n_blocks):\n",
        "            layers.append(block(block.expansion * channels, channels))\n",
        "\n",
        "        self.in_channels = block.expansion * channels\n",
        "        return nn.Sequential(*layers)\n",
        "\n",
        "    def forward(self, x):\n",
        "        x = self.conv1(x)\n",
        "        x = self.bn1(x)\n",
        "        x = self.relu(x)\n",
        "        x = self.maxpool(x)\n",
        "        x = checkpoint.checkpoint(self.layer1, x)\n",
        "        x = self.layer2(x)\n",
        "        x = self.layer3(x)\n",
        "        x = self.layer4(x)\n",
        "        x = self.avgpool(x)\n",
        "        h = x.view(x.shape[0], -1)\n",
        "        x = self.fc(h)\n",
        "        return x, h"
      ]
    },
    {
      "cell_type": "code",
      "execution_count": 16,
      "metadata": {
        "id": "fZ2g6Vv5WIR8"
      },
      "outputs": [],
      "source": [
        "ResNetConfig = namedtuple('ResNetConfig', ['block', 'n_blocks', 'channels'])"
      ]
    },
    {
      "cell_type": "code",
      "execution_count": 17,
      "metadata": {
        "id": "JyqkNDbOWIR8"
      },
      "outputs": [],
      "source": [
        "resnet18_config = ResNetConfig(block = BasicBlock, n_blocks = [2, 2, 2, 2], channels = [64, 128, 256, 512])"
      ]
    },
    {
      "cell_type": "code",
      "execution_count": 18,
      "metadata": {
        "id": "CGaz_A9yWIR8"
      },
      "outputs": [],
      "source": [
        "model = ResNet(resnet18_config, 10)"
      ]
    },
    {
      "cell_type": "code",
      "source": [
        "print(model)"
      ],
      "metadata": {
        "id": "Qf05XuEVY50-",
        "colab": {
          "base_uri": "https://localhost:8080/"
        },
        "outputId": "6ecbcdaa-5536-46dd-d770-8718a50dcc4d"
      },
      "execution_count": 19,
      "outputs": [
        {
          "output_type": "stream",
          "name": "stdout",
          "text": [
            "ResNet(\n",
            "  (conv1): Conv2d(3, 64, kernel_size=(7, 7), stride=(2, 2), padding=(3, 3), bias=False)\n",
            "  (bn1): BatchNorm2d(64, eps=1e-05, momentum=0.1, affine=True, track_running_stats=True)\n",
            "  (relu): ReLU(inplace=True)\n",
            "  (maxpool): MaxPool2d(kernel_size=3, stride=2, padding=1, dilation=1, ceil_mode=False)\n",
            "  (layer1): Sequential(\n",
            "    (0): BasicBlock(\n",
            "      (conv1): Conv2d(64, 64, kernel_size=(3, 3), stride=(1, 1), padding=(1, 1), bias=False)\n",
            "      (bn1): BatchNorm2d(64, eps=1e-05, momentum=0.1, affine=True, track_running_stats=True)\n",
            "      (conv2): Conv2d(64, 64, kernel_size=(3, 3), stride=(1, 1), padding=(1, 1), bias=False)\n",
            "      (bn2): BatchNorm2d(64, eps=1e-05, momentum=0.1, affine=True, track_running_stats=True)\n",
            "      (relu): ReLU(inplace=True)\n",
            "    )\n",
            "    (1): BasicBlock(\n",
            "      (conv1): Conv2d(64, 64, kernel_size=(3, 3), stride=(1, 1), padding=(1, 1), bias=False)\n",
            "      (bn1): BatchNorm2d(64, eps=1e-05, momentum=0.1, affine=True, track_running_stats=True)\n",
            "      (conv2): Conv2d(64, 64, kernel_size=(3, 3), stride=(1, 1), padding=(1, 1), bias=False)\n",
            "      (bn2): BatchNorm2d(64, eps=1e-05, momentum=0.1, affine=True, track_running_stats=True)\n",
            "      (relu): ReLU(inplace=True)\n",
            "    )\n",
            "  )\n",
            "  (layer2): Sequential(\n",
            "    (0): BasicBlock(\n",
            "      (conv1): Conv2d(64, 128, kernel_size=(3, 3), stride=(2, 2), padding=(1, 1), bias=False)\n",
            "      (bn1): BatchNorm2d(128, eps=1e-05, momentum=0.1, affine=True, track_running_stats=True)\n",
            "      (conv2): Conv2d(128, 128, kernel_size=(3, 3), stride=(1, 1), padding=(1, 1), bias=False)\n",
            "      (bn2): BatchNorm2d(128, eps=1e-05, momentum=0.1, affine=True, track_running_stats=True)\n",
            "      (relu): ReLU(inplace=True)\n",
            "      (downsample): Sequential(\n",
            "        (0): Conv2d(64, 128, kernel_size=(1, 1), stride=(2, 2), bias=False)\n",
            "        (1): BatchNorm2d(128, eps=1e-05, momentum=0.1, affine=True, track_running_stats=True)\n",
            "      )\n",
            "    )\n",
            "    (1): BasicBlock(\n",
            "      (conv1): Conv2d(128, 128, kernel_size=(3, 3), stride=(1, 1), padding=(1, 1), bias=False)\n",
            "      (bn1): BatchNorm2d(128, eps=1e-05, momentum=0.1, affine=True, track_running_stats=True)\n",
            "      (conv2): Conv2d(128, 128, kernel_size=(3, 3), stride=(1, 1), padding=(1, 1), bias=False)\n",
            "      (bn2): BatchNorm2d(128, eps=1e-05, momentum=0.1, affine=True, track_running_stats=True)\n",
            "      (relu): ReLU(inplace=True)\n",
            "    )\n",
            "  )\n",
            "  (layer3): Sequential(\n",
            "    (0): BasicBlock(\n",
            "      (conv1): Conv2d(128, 256, kernel_size=(3, 3), stride=(2, 2), padding=(1, 1), bias=False)\n",
            "      (bn1): BatchNorm2d(256, eps=1e-05, momentum=0.1, affine=True, track_running_stats=True)\n",
            "      (conv2): Conv2d(256, 256, kernel_size=(3, 3), stride=(1, 1), padding=(1, 1), bias=False)\n",
            "      (bn2): BatchNorm2d(256, eps=1e-05, momentum=0.1, affine=True, track_running_stats=True)\n",
            "      (relu): ReLU(inplace=True)\n",
            "      (downsample): Sequential(\n",
            "        (0): Conv2d(128, 256, kernel_size=(1, 1), stride=(2, 2), bias=False)\n",
            "        (1): BatchNorm2d(256, eps=1e-05, momentum=0.1, affine=True, track_running_stats=True)\n",
            "      )\n",
            "    )\n",
            "    (1): BasicBlock(\n",
            "      (conv1): Conv2d(256, 256, kernel_size=(3, 3), stride=(1, 1), padding=(1, 1), bias=False)\n",
            "      (bn1): BatchNorm2d(256, eps=1e-05, momentum=0.1, affine=True, track_running_stats=True)\n",
            "      (conv2): Conv2d(256, 256, kernel_size=(3, 3), stride=(1, 1), padding=(1, 1), bias=False)\n",
            "      (bn2): BatchNorm2d(256, eps=1e-05, momentum=0.1, affine=True, track_running_stats=True)\n",
            "      (relu): ReLU(inplace=True)\n",
            "    )\n",
            "  )\n",
            "  (layer4): Sequential(\n",
            "    (0): BasicBlock(\n",
            "      (conv1): Conv2d(256, 512, kernel_size=(3, 3), stride=(2, 2), padding=(1, 1), bias=False)\n",
            "      (bn1): BatchNorm2d(512, eps=1e-05, momentum=0.1, affine=True, track_running_stats=True)\n",
            "      (conv2): Conv2d(512, 512, kernel_size=(3, 3), stride=(1, 1), padding=(1, 1), bias=False)\n",
            "      (bn2): BatchNorm2d(512, eps=1e-05, momentum=0.1, affine=True, track_running_stats=True)\n",
            "      (relu): ReLU(inplace=True)\n",
            "      (downsample): Sequential(\n",
            "        (0): Conv2d(256, 512, kernel_size=(1, 1), stride=(2, 2), bias=False)\n",
            "        (1): BatchNorm2d(512, eps=1e-05, momentum=0.1, affine=True, track_running_stats=True)\n",
            "      )\n",
            "    )\n",
            "    (1): BasicBlock(\n",
            "      (conv1): Conv2d(512, 512, kernel_size=(3, 3), stride=(1, 1), padding=(1, 1), bias=False)\n",
            "      (bn1): BatchNorm2d(512, eps=1e-05, momentum=0.1, affine=True, track_running_stats=True)\n",
            "      (conv2): Conv2d(512, 512, kernel_size=(3, 3), stride=(1, 1), padding=(1, 1), bias=False)\n",
            "      (bn2): BatchNorm2d(512, eps=1e-05, momentum=0.1, affine=True, track_running_stats=True)\n",
            "      (relu): ReLU(inplace=True)\n",
            "    )\n",
            "  )\n",
            "  (avgpool): AdaptiveAvgPool2d(output_size=(1, 1))\n",
            "  (fc): Linear(in_features=512, out_features=10, bias=True)\n",
            ")\n"
          ]
        }
      ]
    },
    {
      "cell_type": "code",
      "execution_count": 20,
      "metadata": {
        "id": "0fCSieg3WIR8"
      },
      "outputs": [],
      "source": [
        "optimizer = optim.SGD(model.parameters(), lr=0.001)\n",
        "criterion = nn.CrossEntropyLoss()\n",
        "\n",
        "pretrained_model = model.to(device)\n",
        "criterion = criterion.to(device)"
      ]
    },
    {
      "cell_type": "code",
      "execution_count": 21,
      "metadata": {
        "id": "GwVmEYKxWIR8"
      },
      "outputs": [],
      "source": [
        "def calculate_accuracy(y_pred, y):\n",
        "    top_pred = y_pred.argmax(1, keepdim=True)\n",
        "    correct = top_pred.eq(y.view_as(top_pred)).sum()\n",
        "    acc = correct.float() / y.shape[0]\n",
        "    return acc"
      ]
    },
    {
      "cell_type": "code",
      "source": [
        "# 디버깅용 코드 포함 버전 (LifetimeAwareMemoryPool & MelonTrainer)\n",
        "# class LifetimeAwareMemoryPool:\n",
        "#     def __init__(self, memory_budget):\n",
        "#         print(f\"[DEBUG] Initializing MemoryPool with budget: {memory_budget}\")\n",
        "#         self.memory_budget = memory_budget\n",
        "#         self.allocated_memory = 0\n",
        "#         self.memory_blocks = []\n",
        "#         self.tensor_map = {}\n",
        "\n",
        "#     def allocate(self, tensor_id, size, lifetime):\n",
        "#         print(f\"[DEBUG] Attempting to allocate tensor {tensor_id} with size {size} and lifetime {lifetime}\")\n",
        "\n",
        "#         if tensor_id in self.tensor_map:\n",
        "#             print(f\"[DEBUG] Tensor {tensor_id} already allocated\")\n",
        "#             return self.tensor_map[tensor_id]\n",
        "\n",
        "#         best_addr = self._find_best_fit(size, lifetime)\n",
        "\n",
        "#         if best_addr is None:\n",
        "#             print(f\"[DEBUG] Memory fragmented, performing compaction\")\n",
        "#             self._compact()\n",
        "#             best_addr = self._find_best_fit(size, lifetime)\n",
        "#             if best_addr is None:\n",
        "#                 print(f\"[DEBUG] Failed to allocate memory for tensor {tensor_id}\")\n",
        "#                 raise MemoryError(\"Not enough memory\")\n",
        "\n",
        "#         block_index = len(self.memory_blocks)\n",
        "#         self.memory_blocks.append((best_addr, size, tensor_id, lifetime))\n",
        "#         self.tensor_map[tensor_id] = block_index\n",
        "#         self.allocated_memory += size\n",
        "\n",
        "#         print(f\"[DEBUG] Successfully allocated tensor {tensor_id} at address {best_addr}\")\n",
        "#         return best_addr\n",
        "\n",
        "#     def free(self, tensor_id):\n",
        "#         print(f\"[DEBUG] Attempting to free tensor {tensor_id}\")\n",
        "#         if tensor_id in self.tensor_map:\n",
        "#             block_index = self.tensor_map[tensor_id]\n",
        "#             _, size, _, _ = self.memory_blocks[block_index]\n",
        "#             self.allocated_memory -= size\n",
        "#             del self.tensor_map[tensor_id]\n",
        "#             self.memory_blocks[block_index] = None\n",
        "#             print(f\"[DEBUG] Successfully freed tensor {tensor_id}\")\n",
        "#         else:\n",
        "#             print(f\"[DEBUG] Tensor {tensor_id} not found in memory pool\")\n",
        "\n",
        "#     def _find_best_fit(self, size, lifetime):\n",
        "#         print(f\"[DEBUG] Finding best fit for size {size} with lifetime {lifetime}\")\n",
        "\n",
        "#         if self.allocated_memory + size > self.memory_budget:\n",
        "#             print(f\"[DEBUG] Not enough memory in budget\")\n",
        "#             return None\n",
        "\n",
        "#         # 1. 재사용 가능한 메모리 블록 찾기\n",
        "#         available_addr = 0\n",
        "#         for block in self.memory_blocks:\n",
        "#             if block is None:\n",
        "#                 continue\n",
        "#             block_addr, block_size, block_id, block_lifetime = block\n",
        "#             print(f\"[DEBUG] Checking block at {block_addr} with size {block_size} (tensor {block_id})\")\n",
        "\n",
        "#             # 수명이 겹치지 않는 경우 해당 공간 재사용\n",
        "#             if not self._lifetimes_overlap(lifetime, block_lifetime):\n",
        "#                 print(f\"[DEBUG] Found potential reuse block at {block_addr}\")\n",
        "#                 if available_addr == 0:  # 첫 번째로 찾은 재사용 가능한 블록 사용\n",
        "#                     print(f\"[DEBUG] Reusing memory at address {available_addr}\")\n",
        "#                     return available_addr\n",
        "#             available_addr = max(available_addr, block_addr + block_size)\n",
        "\n",
        "#         # 2. 새로운 메모리 공간 할당\n",
        "#         if self.allocated_memory + size <= self.memory_budget:\n",
        "#             print(f\"[DEBUG] Allocating at new address {available_addr}\")\n",
        "#             return available_addr\n",
        "\n",
        "#         print(f\"[DEBUG] No suitable location found\")\n",
        "#         return None\n",
        "\n",
        "#     def _calculate_address_at_position(self, pos):\n",
        "#         \"\"\"주어진 위치에 맞는 메모리 주소 계산\"\"\"\n",
        "#         if pos == 0:\n",
        "#             return 0\n",
        "#         prev_block = self.memory_blocks[pos-1]\n",
        "#         return prev_block[0] + prev_block[1]\n",
        "\n",
        "#     def _compact(self):\n",
        "#         print(f\"[DEBUG] Starting memory compaction\")\n",
        "#         valid_blocks = [b for b in self.memory_blocks if b is not None]\n",
        "#         print(f\"[DEBUG] Found {len(valid_blocks)} valid blocks\")\n",
        "\n",
        "#         valid_blocks.sort(key=lambda x: x[3])\n",
        "\n",
        "#         self.memory_blocks = []\n",
        "#         self.tensor_map.clear()\n",
        "#         self.allocated_memory = 0\n",
        "\n",
        "#         current_addr = 0\n",
        "#         for _, size, tensor_id, lifetime in valid_blocks:\n",
        "#             self.memory_blocks.append((current_addr, size, tensor_id, lifetime))\n",
        "#             self.tensor_map[tensor_id] = len(self.memory_blocks) - 1\n",
        "#             self.allocated_memory += size\n",
        "#             current_addr += size\n",
        "#             print(f\"[DEBUG] Reallocated tensor {tensor_id} to address {current_addr-size}\")\n",
        "\n",
        "#     def _lifetimes_overlap(self, lifetime1, lifetime2):\n",
        "#         print(f\"[DEBUG] Checking lifetime overlap: {lifetime1} vs {lifetime2}\")\n",
        "#         start1, end1 = lifetime1\n",
        "#         start2, end2 = lifetime2\n",
        "#         overlap = not (end1 <= start2 or end2 <= start1)\n",
        "#         print(f\"[DEBUG] Overlap result: {overlap}\")\n",
        "#         return overlap\n",
        "\n",
        "\n",
        "# class MelonTrainer:\n",
        "#     def __init__(self, model, criterion, optimizer, device, memory_budget):\n",
        "#         print(f\"[DEBUG] Initializing MelonTrainer with memory budget: {memory_budget}\")\n",
        "#         self.model = model.to(device)\n",
        "#         self.criterion = criterion\n",
        "#         self.optimizer = optimizer\n",
        "#         self.device = device\n",
        "#         self.memory_budget = memory_budget\n",
        "#         self.has_bn = self._check_has_bn()\n",
        "#         print(f\"[DEBUG] Model has BatchNorm layers: {self.has_bn}\")\n",
        "#         self.memory_pool = self._initialize_memory_pool()\n",
        "\n",
        "#     def _check_has_bn(self):\n",
        "#         print(\"[DEBUG] Checking for BatchNorm layers in model\")\n",
        "#         for module in self.model.modules():\n",
        "#             if isinstance(module, nn.BatchNorm2d):\n",
        "#                 print(\"[DEBUG] Found BatchNorm2d layer\")\n",
        "#                 return True\n",
        "#         print(\"[DEBUG] No BatchNorm layers found\")\n",
        "#         return False\n",
        "\n",
        "#     def _initialize_memory_pool(self):\n",
        "#         print(\"[DEBUG] Initializing LifetimeAwareMemoryPool\")\n",
        "#         return LifetimeAwareMemoryPool(self.memory_budget)\n",
        "\n",
        "#     def train(self, train_loader):\n",
        "#         print(\"[DEBUG] Starting training\")\n",
        "#         start_time = time.monotonic()\n",
        "#         self.model.train()\n",
        "#         running_loss = 0.0\n",
        "#         correct = 0\n",
        "#         total = 0\n",
        "\n",
        "#         print(\"[DEBUG] Setting up profiler\")\n",
        "#         with profile(\n",
        "#             activities=[ProfilerActivity.CPU, ProfilerActivity.CUDA],\n",
        "#             profile_memory=True,\n",
        "#             record_shapes=True\n",
        "#         ) as prof:\n",
        "#             for batch_idx, (inputs, labels) in enumerate(tqdm(train_loader, desc=\"Training\")):\n",
        "#                 print(f\"[DEBUG] Processing batch {batch_idx}\")\n",
        "#                 inputs, labels = inputs.to(self.device), labels.to(self.device)\n",
        "\n",
        "#                 # Allocate memory for inputs and labels using the memory pool\n",
        "#                 input_tensor_id = f\"input_batch_{batch_idx}\"\n",
        "#                 label_tensor_id = f\"label_batch_{batch_idx}\"\n",
        "\n",
        "#                 try:\n",
        "#                     # Allocate memory for the input and label tensors\n",
        "#                     self.memory_pool.allocate(input_tensor_id, inputs.element_size() * inputs.nelement(), (batch_idx, batch_idx + 1))\n",
        "#                     self.memory_pool.allocate(label_tensor_id, labels.element_size() * labels.nelement(), (batch_idx, batch_idx + 1))\n",
        "#                     print(f\"[DEBUG] Allocated memory for input and label tensors for batch {batch_idx}\")\n",
        "#                 except MemoryError as e:\n",
        "#                     print(f\"[ERROR] Memory allocation failed for batch {batch_idx}: {e}\")\n",
        "#                     continue\n",
        "\n",
        "#                 if self.has_bn:\n",
        "#                     # BatchNorm이 있는 경우 recomputation 사용\n",
        "#                     print(\"[DEBUG] Using recomputation strategy\")\n",
        "#                     loss, acc = self._train_step_with_recomputation(inputs, labels)\n",
        "#                 else:\n",
        "#                     # BatchNorm이 없는 경우 micro-batch 사용\n",
        "#                     print(\"[DEBUG] Using micro-batch strategy\")\n",
        "#                     loss, acc = self._train_step_with_microbatch(inputs, labels)\n",
        "\n",
        "#                 running_loss += loss\n",
        "#                 correct += acc[0]\n",
        "#                 total += acc[1]\n",
        "\n",
        "#                 # Free the allocated memory after processing the batch\n",
        "#                 self.memory_pool.free(input_tensor_id)\n",
        "#                 self.memory_pool.free(label_tensor_id)\n",
        "#                 print(f\"[DEBUG] Freed memory for input and label tensors for batch {batch_idx}\")\n",
        "\n",
        "#                 print(f\"[DEBUG] Batch {batch_idx} - Loss: {loss:.4f}, Accuracy: {acc[0]/acc[1]*100:.2f}%\")\n",
        "\n",
        "#         end_time = time.monotonic()\n",
        "#         epoch_loss = running_loss / len(train_loader)\n",
        "#         accuracy = 100 * correct / total if total > 0 else 0\n",
        "\n",
        "#         print(f\"[DEBUG] Training completed - Loss: {epoch_loss:.4f}, Accuracy: {accuracy:.2f}%\")\n",
        "#         return epoch_loss, accuracy, start_time, end_time\n",
        "\n",
        "#     def _train_step_with_recomputation(self, inputs, labels):\n",
        "#         print(\"[DEBUG] Starting recomputation training step\")\n",
        "#         self.optimizer.zero_grad()\n",
        "\n",
        "#         # Forward pass with checkpoints\n",
        "#         with torch.no_grad():\n",
        "#             intermediate_outputs = []\n",
        "#             x = inputs\n",
        "\n",
        "#             print(\"[DEBUG] Processing initial layers\")\n",
        "#             x = self.model.conv1(x)\n",
        "#             x = self.model.bn1(x)\n",
        "#             x = self.model.relu(x)\n",
        "#             x = self.model.maxpool(x)\n",
        "\n",
        "#             print(\"[DEBUG] Processing main layers\")\n",
        "#             for layer_name in ['layer1', 'layer2', 'layer3', 'layer4']:\n",
        "#                 print(f\"[DEBUG] Processing {layer_name}\")\n",
        "#                 layer = getattr(self.model, layer_name)\n",
        "#                 x = layer(x)\n",
        "#                 if self.has_bn:\n",
        "#                     intermediate_outputs.append(x.detach())\n",
        "#                     print(f\"[DEBUG] Saved checkpoint for {layer_name}\")\n",
        "\n",
        "#         print(\"[DEBUG] Starting forward pass\")\n",
        "#         with record_function(\"forward_pass\"):\n",
        "#             outputs = self.model(inputs)\n",
        "#             if isinstance(outputs, tuple):\n",
        "#                 outputs = outputs[0]\n",
        "\n",
        "#         print(\"[DEBUG] Computing loss\")\n",
        "#         with record_function(\"loss_computation\"):\n",
        "#             loss = self.criterion(outputs, labels)\n",
        "\n",
        "#         print(\"[DEBUG] Backward pass\")\n",
        "#         with record_function(\"backward_pass\"):\n",
        "#             loss.backward()\n",
        "\n",
        "#         print(\"[DEBUG] Optimizer step\")\n",
        "#         with record_function(\"optimizer_step\"):\n",
        "#             self.optimizer.step()\n",
        "\n",
        "#         _, predicted = torch.max(outputs.data, 1)\n",
        "#         correct = (predicted == labels).sum().item()\n",
        "#         total = labels.size(0)\n",
        "\n",
        "#         print(f\"[DEBUG] Step completed - Loss: {loss.item():.4f}, Accuracy: {correct/total*100:.2f}%\")\n",
        "#         return loss.item(), (correct, total)\n",
        "\n",
        "#     def _calculate_micro_batch_size(self, input_size):\n",
        "#         print(f\"[DEBUG] Calculating micro-batch size for input shape {input_size}\")\n",
        "#         tensor_size = input_size[1] * input_size[2] * input_size[3] * 4\n",
        "#         micro_batch_size = max(1, min(input_size[0], self.memory_budget // tensor_size))\n",
        "#         print(f\"[DEBUG] Calculated micro-batch size: {micro_batch_size}\")\n",
        "#         return micro_batch_size"
      ],
      "metadata": {
        "id": "B6v4yMYSu9vu"
      },
      "execution_count": 22,
      "outputs": []
    },
    {
      "cell_type": "code",
      "execution_count": 23,
      "metadata": {
        "id": "ElRmHAmtWIR8"
      },
      "outputs": [],
      "source": [
        "class LifetimeAwareMemoryPool:\n",
        "    def __init__(self, memory_budget):\n",
        "        self.memory_budget = memory_budget\n",
        "        self.allocated_memory = 0\n",
        "        self.memory_blocks = []\n",
        "        self.tensor_map = {}\n",
        "\n",
        "    def allocate(self, tensor_id, size, lifetime):\n",
        "        if tensor_id in self.tensor_map:\n",
        "            return self.tensor_map[tensor_id]\n",
        "\n",
        "        best_addr = self._find_best_fit(size, lifetime)\n",
        "\n",
        "        if best_addr is None:\n",
        "            self._compact()\n",
        "            best_addr = self._find_best_fit(size, lifetime)\n",
        "            if best_addr is None:\n",
        "                raise MemoryError(\"Not enough memory\")\n",
        "\n",
        "        block_index = len(self.memory_blocks)\n",
        "        self.memory_blocks.append((best_addr, size, tensor_id, lifetime))\n",
        "        self.tensor_map[tensor_id] = block_index\n",
        "        self.allocated_memory += size\n",
        "\n",
        "        return best_addr\n",
        "\n",
        "    def free(self, tensor_id):\n",
        "        if tensor_id in self.tensor_map:\n",
        "            block_index = self.tensor_map[tensor_id]\n",
        "            _, size, _, _ = self.memory_blocks[block_index]\n",
        "            self.allocated_memory -= size\n",
        "            del self.tensor_map[tensor_id]\n",
        "            self.memory_blocks[block_index] = None\n",
        "\n",
        "    def _find_best_fit(self, size, lifetime):\n",
        "        if self.allocated_memory + size > self.memory_budget:\n",
        "            return None\n",
        "\n",
        "        available_addr = 0\n",
        "        for block in self.memory_blocks:\n",
        "            if block is None:\n",
        "                continue\n",
        "            block_addr, block_size, block_id, block_lifetime = block\n",
        "            if not self._lifetimes_overlap(lifetime, block_lifetime):\n",
        "                if available_addr == 0:\n",
        "                    return available_addr\n",
        "            available_addr = max(available_addr, block_addr + block_size)\n",
        "\n",
        "        if self.allocated_memory + size <= self.memory_budget:\n",
        "            return available_addr\n",
        "\n",
        "        return None\n",
        "\n",
        "    def _calculate_address_at_position(self, pos):\n",
        "        if pos == 0:\n",
        "            return 0\n",
        "        prev_block = self.memory_blocks[pos-1]\n",
        "        return prev_block[0] + prev_block[1]\n",
        "\n",
        "    def _compact(self):\n",
        "        valid_blocks = [b for b in self.memory_blocks if b is not None]\n",
        "        valid_blocks.sort(key=lambda x: x[3])\n",
        "\n",
        "        self.memory_blocks = []\n",
        "        self.tensor_map.clear()\n",
        "        self.allocated_memory = 0\n",
        "\n",
        "        current_addr = 0\n",
        "        for _, size, tensor_id, lifetime in valid_blocks:\n",
        "            self.memory_blocks.append((current_addr, size, tensor_id, lifetime))\n",
        "            self.tensor_map[tensor_id] = len(self.memory_blocks) - 1\n",
        "            self.allocated_memory += size\n",
        "            current_addr += size\n",
        "\n",
        "    def _lifetimes_overlap(self, lifetime1, lifetime2):\n",
        "        start1, end1 = lifetime1\n",
        "        start2, end2 = lifetime2\n",
        "        return not (end1 <= start2 or end2 <= start1)"
      ]
    },
    {
      "cell_type": "code",
      "source": [
        "class MelonTrainer:\n",
        "    def __init__(self, model, criterion, optimizer, device, memory_budget):\n",
        "        self.model = model.to(device)\n",
        "        self.criterion = criterion\n",
        "        self.optimizer = optimizer\n",
        "        self.device = device\n",
        "        self.memory_budget = memory_budget\n",
        "        self.has_bn = self._check_has_bn()\n",
        "        self.memory_pool = self._initialize_memory_pool()\n",
        "\n",
        "    def _check_has_bn(self):\n",
        "        for module in self.model.modules():\n",
        "            if isinstance(module, nn.BatchNorm2d):\n",
        "                return True\n",
        "        return False\n",
        "\n",
        "    def _initialize_memory_pool(self):\n",
        "        return LifetimeAwareMemoryPool(self.memory_budget)\n",
        "\n",
        "    def train(self, train_loader):\n",
        "        start_time = time.monotonic()\n",
        "        self.model.train()\n",
        "        running_loss = 0.0\n",
        "        correct = 0\n",
        "        total = 0\n",
        "\n",
        "        for batch_idx, (inputs, labels) in enumerate(tqdm(train_loader, desc=\"Training\")):\n",
        "            inputs, labels = inputs.to(self.device), labels.to(self.device)\n",
        "\n",
        "            # Allocate memory for inputs and labels using the memory pool\n",
        "            input_tensor_id = f\"input_batch_{batch_idx}\"\n",
        "            label_tensor_id = f\"label_batch_{batch_idx}\"\n",
        "\n",
        "            try:\n",
        "                self.memory_pool.allocate(input_tensor_id, inputs.element_size() * inputs.nelement(), (batch_idx, batch_idx + 1))\n",
        "                self.memory_pool.allocate(label_tensor_id, labels.element_size() * labels.nelement(), (batch_idx, batch_idx + 1))\n",
        "            except MemoryError:\n",
        "                continue\n",
        "\n",
        "            if self.has_bn:\n",
        "                loss, acc = self._train_step_with_recomputation(inputs, labels)\n",
        "            else:\n",
        "                loss, acc = self._train_step_with_microbatch(inputs, labels)\n",
        "\n",
        "            running_loss += loss\n",
        "            correct += acc[0]\n",
        "            total += acc[1]\n",
        "\n",
        "            self.memory_pool.free(input_tensor_id)\n",
        "            self.memory_pool.free(label_tensor_id)\n",
        "\n",
        "        end_time = time.monotonic()\n",
        "\n",
        "\n",
        "        # 훈련 후 평균 손실과 정확도 계산\n",
        "        epoch_loss = running_loss / len(train_loader)\n",
        "        accuracy = 100 * correct / total if total > 0 else 0\n",
        "\n",
        "        return epoch_loss, accuracy, start_time, end_time\n",
        "\n",
        "    def _train_step_with_recomputation(self, inputs, labels):\n",
        "        self.optimizer.zero_grad()\n",
        "\n",
        "        with torch.no_grad():\n",
        "            intermediate_outputs = []\n",
        "            x = inputs\n",
        "\n",
        "            x = self.model.conv1(x)\n",
        "            x = self.model.bn1(x)\n",
        "            x = self.model.relu(x)\n",
        "            x = self.model.maxpool(x)\n",
        "\n",
        "            for layer_name in ['layer1', 'layer2', 'layer3', 'layer4']:\n",
        "                layer = getattr(self.model, layer_name)\n",
        "                x = layer(x)\n",
        "                if self.has_bn:\n",
        "                    intermediate_outputs.append(x.detach())\n",
        "\n",
        "        outputs = self.model(inputs)\n",
        "        if isinstance(outputs, tuple):\n",
        "            outputs = outputs[0]\n",
        "\n",
        "        loss = self.criterion(outputs, labels)\n",
        "\n",
        "        loss.backward()\n",
        "\n",
        "        for i, param in enumerate(model.parameters()):\n",
        "          if i == len(list(model.parameters())) - 1:\n",
        "            break\n",
        "          if param.grad is not None:\n",
        "            grad_values = param.grad.abs().view(-1)\n",
        "            topk_values, _ = grad_values.topk(10, largest=True)\n",
        "\n",
        "            threshold = topk_values[-1]\n",
        "\n",
        "            mask = param.grad.abs() >= threshold\n",
        "\n",
        "            updated_grad = torch.zeros_like(param.grad)\n",
        "            updated_grad[mask] = param.grad[mask]\n",
        "\n",
        "            del param.grad\n",
        "            torch.cuda.empty_cache()\n",
        "            param.grad = updated_grad.clone().detach()\n",
        "\n",
        "        self.optimizer.step()\n",
        "\n",
        "        _, predicted = torch.max(outputs.data, 1)\n",
        "        correct = (predicted == labels).sum().item()\n",
        "        total = labels.size(0)\n",
        "\n",
        "        return loss.item(), (correct, total)\n",
        "\n",
        "    def _calculate_micro_batch_size(self, input_size):\n",
        "        tensor_size = input_size[1] * input_size[2] * input_size[3] * 4\n",
        "        micro_batch_size = max(1, min(input_size[0], self.memory_budget // tensor_size))\n",
        "        return micro_batch_size"
      ],
      "metadata": {
        "id": "x380sxZ-dT2D"
      },
      "execution_count": 24,
      "outputs": []
    },
    {
      "cell_type": "code",
      "execution_count": 25,
      "metadata": {
        "id": "XcKNWVMyWIR8"
      },
      "outputs": [],
      "source": [
        "def evaluate(model, data_loader, criterion, device, phase=\"Validation\"):\n",
        "    model.eval()\n",
        "    running_loss = 0.0\n",
        "    correct = 0\n",
        "    total = 0\n",
        "    with torch.no_grad():\n",
        "        for inputs, labels in tqdm(data_loader, desc=f\"{phase}\"):\n",
        "            inputs, labels = inputs.to(device), labels.to(device)\n",
        "            outputs = model(inputs)\n",
        "            loss = criterion(outputs[0], labels)\n",
        "\n",
        "            running_loss += loss.item()\n",
        "            _, predicted = torch.max(outputs[0], 1)\n",
        "            total += labels.size(0)\n",
        "            correct += (predicted == labels).sum().item()\n",
        "\n",
        "    epoch_loss = running_loss / len(data_loader)\n",
        "    accuracy = 100 * correct / total\n",
        "    # print(f\"{phase} Loss: {epoch_loss:.4f}, {phase} Accuracy: {accuracy:.2f}%\")\n",
        "\n",
        "    return epoch_loss, accuracy"
      ]
    },
    {
      "cell_type": "code",
      "execution_count": 26,
      "metadata": {
        "id": "1X3CMJVlWIR9"
      },
      "outputs": [],
      "source": [
        "def epoch_time(start_time, end_time):\n",
        "    elapsed_time = end_time - start_time\n",
        "    elapsed_mins = int(elapsed_time / 60)\n",
        "    elapsed_secs = int(elapsed_time - (elapsed_mins * 60))\n",
        "    return elapsed_mins, elapsed_secs"
      ]
    },
    {
      "cell_type": "code",
      "source": [
        "torch.cuda.empty_cache()"
      ],
      "metadata": {
        "id": "CBXgAgVO0G4p"
      },
      "execution_count": 27,
      "outputs": []
    },
    {
      "cell_type": "code",
      "source": [
        "print_gpu_utilization()"
      ],
      "metadata": {
        "id": "aiV3uFx69SM0",
        "colab": {
          "base_uri": "https://localhost:8080/"
        },
        "outputId": "0f7434fc-945b-4317-934d-5dd34422aa93"
      },
      "execution_count": 28,
      "outputs": [
        {
          "output_type": "stream",
          "name": "stdout",
          "text": [
            "Allocated Memory: 0.04 GB\n",
            "Reserved Memory: 0.06 GB\n"
          ]
        }
      ]
    },
    {
      "cell_type": "code",
      "source": [
        "free_memory, total_memory = torch.cuda.mem_get_info()\n",
        "print(f\"Free memory: {free_memory / 1024**2:.2f} MB\")\n",
        "print(f\"Total memory: {total_memory / 1024**2:.2f} MB\")"
      ],
      "metadata": {
        "id": "PX8BoA2oYyEc",
        "colab": {
          "base_uri": "https://localhost:8080/"
        },
        "outputId": "ac76fc56-459d-4249-af99-031bef3741b9"
      },
      "execution_count": 29,
      "outputs": [
        {
          "output_type": "stream",
          "name": "stdout",
          "text": [
            "Free memory: 40026.81 MB\n",
            "Total memory: 40513.81 MB\n"
          ]
        }
      ]
    },
    {
      "cell_type": "code",
      "execution_count": 30,
      "metadata": {
        "id": "bsG0saouWIR9",
        "colab": {
          "base_uri": "https://localhost:8080/"
        },
        "outputId": "9c16896b-6132-4c1e-f6d4-9ad795cf368a"
      },
      "outputs": [
        {
          "output_type": "stream",
          "name": "stderr",
          "text": [
            "\rTraining:   0%|          | 0/313 [00:00<?, ?it/s]/usr/local/lib/python3.10/dist-packages/torch/_dynamo/eval_frame.py:632: UserWarning: torch.utils.checkpoint: the use_reentrant parameter should be passed explicitly. In version 2.5 we will raise an exception if use_reentrant is not passed. use_reentrant=False is recommended, but if you need to preserve the current default behavior, you can pass use_reentrant=True. Refer to docs for more details on the differences between the two variants.\n",
            "  return fn(*args, **kwargs)\n",
            "Training: 100%|██████████| 313/313 [00:35<00:00,  8.74it/s]\n",
            "Validation:   0%|          | 0/94 [00:00<?, ?it/s]/usr/local/lib/python3.10/dist-packages/torch/utils/checkpoint.py:87: UserWarning: None of the inputs have requires_grad=True. Gradients will be None\n",
            "  warnings.warn(\n",
            "Validation: 100%|██████████| 94/94 [00:04<00:00, 20.42it/s]\n"
          ]
        },
        {
          "output_type": "stream",
          "name": "stdout",
          "text": [
            "Epoch: 01 | Epoch Train Time: 0m 35s\n",
            "\tTrain Loss: 2.382 | Train Acc: 9.86%\n",
            "\t Val. Loss: 2.373 |  Val. Acc: 10.27%\n"
          ]
        },
        {
          "output_type": "stream",
          "name": "stderr",
          "text": [
            "Training: 100%|██████████| 313/313 [00:33<00:00,  9.42it/s]\n",
            "Validation: 100%|██████████| 94/94 [00:04<00:00, 20.25it/s]\n"
          ]
        },
        {
          "output_type": "stream",
          "name": "stdout",
          "text": [
            "Epoch: 02 | Epoch Train Time: 0m 33s\n",
            "\tTrain Loss: 2.348 | Train Acc: 10.30%\n",
            "\t Val. Loss: 2.336 |  Val. Acc: 11.03%\n"
          ]
        },
        {
          "output_type": "stream",
          "name": "stderr",
          "text": [
            "Training: 100%|██████████| 313/313 [00:33<00:00,  9.40it/s]\n",
            "Validation: 100%|██████████| 94/94 [00:04<00:00, 19.90it/s]\n"
          ]
        },
        {
          "output_type": "stream",
          "name": "stdout",
          "text": [
            "Epoch: 03 | Epoch Train Time: 0m 33s\n",
            "\tTrain Loss: 2.325 | Train Acc: 10.47%\n",
            "\t Val. Loss: 2.313 |  Val. Acc: 10.97%\n"
          ]
        },
        {
          "output_type": "stream",
          "name": "stderr",
          "text": [
            "Training: 100%|██████████| 313/313 [00:33<00:00,  9.36it/s]\n",
            "Validation: 100%|██████████| 94/94 [00:04<00:00, 20.49it/s]\n"
          ]
        },
        {
          "output_type": "stream",
          "name": "stdout",
          "text": [
            "Epoch: 04 | Epoch Train Time: 0m 33s\n",
            "\tTrain Loss: 2.305 | Train Acc: 10.88%\n",
            "\t Val. Loss: 2.299 |  Val. Acc: 11.17%\n"
          ]
        },
        {
          "output_type": "stream",
          "name": "stderr",
          "text": [
            "Training: 100%|██████████| 313/313 [00:33<00:00,  9.40it/s]\n",
            "Validation: 100%|██████████| 94/94 [00:04<00:00, 20.41it/s]\n"
          ]
        },
        {
          "output_type": "stream",
          "name": "stdout",
          "text": [
            "Epoch: 05 | Epoch Train Time: 0m 33s\n",
            "\tTrain Loss: 2.290 | Train Acc: 11.73%\n",
            "\t Val. Loss: 2.278 |  Val. Acc: 12.63%\n"
          ]
        },
        {
          "output_type": "stream",
          "name": "stderr",
          "text": [
            "Training: 100%|██████████| 313/313 [00:33<00:00,  9.37it/s]\n",
            "Validation: 100%|██████████| 94/94 [00:04<00:00, 20.00it/s]\n"
          ]
        },
        {
          "output_type": "stream",
          "name": "stdout",
          "text": [
            "Epoch: 06 | Epoch Train Time: 0m 33s\n",
            "\tTrain Loss: 2.277 | Train Acc: 12.55%\n",
            "\t Val. Loss: 2.271 |  Val. Acc: 12.90%\n"
          ]
        },
        {
          "output_type": "stream",
          "name": "stderr",
          "text": [
            "Training: 100%|██████████| 313/313 [00:33<00:00,  9.45it/s]\n",
            "Validation: 100%|██████████| 94/94 [00:04<00:00, 20.15it/s]\n"
          ]
        },
        {
          "output_type": "stream",
          "name": "stdout",
          "text": [
            "Epoch: 07 | Epoch Train Time: 0m 33s\n",
            "\tTrain Loss: 2.262 | Train Acc: 13.50%\n",
            "\t Val. Loss: 2.258 |  Val. Acc: 13.57%\n"
          ]
        },
        {
          "output_type": "stream",
          "name": "stderr",
          "text": [
            "Training: 100%|██████████| 313/313 [00:32<00:00,  9.54it/s]\n",
            "Validation: 100%|██████████| 94/94 [00:04<00:00, 20.64it/s]\n"
          ]
        },
        {
          "output_type": "stream",
          "name": "stdout",
          "text": [
            "Epoch: 08 | Epoch Train Time: 0m 32s\n",
            "\tTrain Loss: 2.252 | Train Acc: 13.69%\n",
            "\t Val. Loss: 2.250 |  Val. Acc: 14.10%\n"
          ]
        },
        {
          "output_type": "stream",
          "name": "stderr",
          "text": [
            "Training: 100%|██████████| 313/313 [00:32<00:00,  9.52it/s]\n",
            "Validation: 100%|██████████| 94/94 [00:04<00:00, 20.69it/s]\n"
          ]
        },
        {
          "output_type": "stream",
          "name": "stdout",
          "text": [
            "Epoch: 09 | Epoch Train Time: 0m 32s\n",
            "\tTrain Loss: 2.244 | Train Acc: 14.40%\n",
            "\t Val. Loss: 2.246 |  Val. Acc: 15.30%\n"
          ]
        },
        {
          "output_type": "stream",
          "name": "stderr",
          "text": [
            "Training: 100%|██████████| 313/313 [00:32<00:00,  9.54it/s]\n",
            "Validation: 100%|██████████| 94/94 [00:04<00:00, 20.63it/s]\n"
          ]
        },
        {
          "output_type": "stream",
          "name": "stdout",
          "text": [
            "Epoch: 10 | Epoch Train Time: 0m 32s\n",
            "\tTrain Loss: 2.236 | Train Acc: 15.01%\n",
            "\t Val. Loss: 2.232 |  Val. Acc: 15.60%\n"
          ]
        },
        {
          "output_type": "stream",
          "name": "stderr",
          "text": [
            "Training: 100%|██████████| 313/313 [00:33<00:00,  9.46it/s]\n",
            "Validation: 100%|██████████| 94/94 [00:04<00:00, 20.14it/s]\n"
          ]
        },
        {
          "output_type": "stream",
          "name": "stdout",
          "text": [
            "Epoch: 11 | Epoch Train Time: 0m 33s\n",
            "\tTrain Loss: 2.229 | Train Acc: 15.69%\n",
            "\t Val. Loss: 2.232 |  Val. Acc: 15.93%\n"
          ]
        },
        {
          "output_type": "stream",
          "name": "stderr",
          "text": [
            "Training: 100%|██████████| 313/313 [00:32<00:00,  9.51it/s]\n",
            "Validation: 100%|██████████| 94/94 [00:04<00:00, 20.29it/s]\n"
          ]
        },
        {
          "output_type": "stream",
          "name": "stdout",
          "text": [
            "Epoch: 12 | Epoch Train Time: 0m 32s\n",
            "\tTrain Loss: 2.221 | Train Acc: 15.89%\n",
            "\t Val. Loss: 2.225 |  Val. Acc: 15.70%\n"
          ]
        },
        {
          "output_type": "stream",
          "name": "stderr",
          "text": [
            "Training: 100%|██████████| 313/313 [00:32<00:00,  9.50it/s]\n",
            "Validation: 100%|██████████| 94/94 [00:04<00:00, 20.47it/s]\n"
          ]
        },
        {
          "output_type": "stream",
          "name": "stdout",
          "text": [
            "Epoch: 13 | Epoch Train Time: 0m 32s\n",
            "\tTrain Loss: 2.215 | Train Acc: 16.78%\n",
            "\t Val. Loss: 2.218 |  Val. Acc: 16.63%\n"
          ]
        },
        {
          "output_type": "stream",
          "name": "stderr",
          "text": [
            "Training: 100%|██████████| 313/313 [00:33<00:00,  9.43it/s]\n",
            "Validation: 100%|██████████| 94/94 [00:04<00:00, 20.60it/s]\n"
          ]
        },
        {
          "output_type": "stream",
          "name": "stdout",
          "text": [
            "Epoch: 14 | Epoch Train Time: 0m 33s\n",
            "\tTrain Loss: 2.212 | Train Acc: 16.93%\n",
            "\t Val. Loss: 2.219 |  Val. Acc: 16.27%\n"
          ]
        },
        {
          "output_type": "stream",
          "name": "stderr",
          "text": [
            "Training: 100%|██████████| 313/313 [00:33<00:00,  9.42it/s]\n",
            "Validation: 100%|██████████| 94/94 [00:04<00:00, 19.79it/s]\n"
          ]
        },
        {
          "output_type": "stream",
          "name": "stdout",
          "text": [
            "Epoch: 15 | Epoch Train Time: 0m 33s\n",
            "\tTrain Loss: 2.206 | Train Acc: 17.32%\n",
            "\t Val. Loss: 2.204 |  Val. Acc: 17.90%\n"
          ]
        },
        {
          "output_type": "stream",
          "name": "stderr",
          "text": [
            "Training: 100%|██████████| 313/313 [00:33<00:00,  9.40it/s]\n",
            "Validation: 100%|██████████| 94/94 [00:04<00:00, 20.06it/s]\n"
          ]
        },
        {
          "output_type": "stream",
          "name": "stdout",
          "text": [
            "Epoch: 16 | Epoch Train Time: 0m 33s\n",
            "\tTrain Loss: 2.196 | Train Acc: 18.22%\n",
            "\t Val. Loss: 2.203 |  Val. Acc: 17.47%\n"
          ]
        },
        {
          "output_type": "stream",
          "name": "stderr",
          "text": [
            "Training: 100%|██████████| 313/313 [00:33<00:00,  9.42it/s]\n",
            "Validation: 100%|██████████| 94/94 [00:04<00:00, 20.36it/s]\n"
          ]
        },
        {
          "output_type": "stream",
          "name": "stdout",
          "text": [
            "Epoch: 17 | Epoch Train Time: 0m 33s\n",
            "\tTrain Loss: 2.192 | Train Acc: 18.71%\n",
            "\t Val. Loss: 2.195 |  Val. Acc: 18.53%\n"
          ]
        },
        {
          "output_type": "stream",
          "name": "stderr",
          "text": [
            "Training: 100%|██████████| 313/313 [00:33<00:00,  9.38it/s]\n",
            "Validation: 100%|██████████| 94/94 [00:04<00:00, 20.73it/s]\n"
          ]
        },
        {
          "output_type": "stream",
          "name": "stdout",
          "text": [
            "Epoch: 18 | Epoch Train Time: 0m 33s\n",
            "\tTrain Loss: 2.187 | Train Acc: 18.59%\n",
            "\t Val. Loss: 2.189 |  Val. Acc: 19.30%\n"
          ]
        },
        {
          "output_type": "stream",
          "name": "stderr",
          "text": [
            "Training: 100%|██████████| 313/313 [00:33<00:00,  9.41it/s]\n",
            "Validation: 100%|██████████| 94/94 [00:04<00:00, 20.37it/s]\n"
          ]
        },
        {
          "output_type": "stream",
          "name": "stdout",
          "text": [
            "Epoch: 19 | Epoch Train Time: 0m 33s\n",
            "\tTrain Loss: 2.183 | Train Acc: 19.27%\n",
            "\t Val. Loss: 2.185 |  Val. Acc: 20.03%\n"
          ]
        },
        {
          "output_type": "stream",
          "name": "stderr",
          "text": [
            "Training: 100%|██████████| 313/313 [00:33<00:00,  9.39it/s]\n",
            "Validation: 100%|██████████| 94/94 [00:04<00:00, 20.35it/s]\n"
          ]
        },
        {
          "output_type": "stream",
          "name": "stdout",
          "text": [
            "Epoch: 20 | Epoch Train Time: 0m 33s\n",
            "\tTrain Loss: 2.180 | Train Acc: 18.93%\n",
            "\t Val. Loss: 2.183 |  Val. Acc: 19.40%\n"
          ]
        },
        {
          "output_type": "stream",
          "name": "stderr",
          "text": [
            "Training: 100%|██████████| 313/313 [00:33<00:00,  9.39it/s]\n",
            "Validation: 100%|██████████| 94/94 [00:04<00:00, 20.48it/s]\n"
          ]
        },
        {
          "output_type": "stream",
          "name": "stdout",
          "text": [
            "Epoch: 21 | Epoch Train Time: 0m 33s\n",
            "\tTrain Loss: 2.170 | Train Acc: 19.92%\n",
            "\t Val. Loss: 2.181 |  Val. Acc: 19.73%\n"
          ]
        },
        {
          "output_type": "stream",
          "name": "stderr",
          "text": [
            "Training: 100%|██████████| 313/313 [00:33<00:00,  9.34it/s]\n",
            "Validation: 100%|██████████| 94/94 [00:04<00:00, 20.36it/s]\n"
          ]
        },
        {
          "output_type": "stream",
          "name": "stdout",
          "text": [
            "Epoch: 22 | Epoch Train Time: 0m 33s\n",
            "\tTrain Loss: 2.166 | Train Acc: 20.67%\n",
            "\t Val. Loss: 2.170 |  Val. Acc: 20.07%\n"
          ]
        },
        {
          "output_type": "stream",
          "name": "stderr",
          "text": [
            "Training: 100%|██████████| 313/313 [00:33<00:00,  9.45it/s]\n",
            "Validation: 100%|██████████| 94/94 [00:04<00:00, 19.93it/s]\n"
          ]
        },
        {
          "output_type": "stream",
          "name": "stdout",
          "text": [
            "Epoch: 23 | Epoch Train Time: 0m 33s\n",
            "\tTrain Loss: 2.164 | Train Acc: 20.45%\n",
            "\t Val. Loss: 2.166 |  Val. Acc: 20.43%\n"
          ]
        },
        {
          "output_type": "stream",
          "name": "stderr",
          "text": [
            "Training: 100%|██████████| 313/313 [00:33<00:00,  9.39it/s]\n",
            "Validation: 100%|██████████| 94/94 [00:04<00:00, 20.77it/s]\n"
          ]
        },
        {
          "output_type": "stream",
          "name": "stdout",
          "text": [
            "Epoch: 24 | Epoch Train Time: 0m 33s\n",
            "\tTrain Loss: 2.154 | Train Acc: 20.59%\n",
            "\t Val. Loss: 2.163 |  Val. Acc: 20.73%\n"
          ]
        },
        {
          "output_type": "stream",
          "name": "stderr",
          "text": [
            "Training: 100%|██████████| 313/313 [00:33<00:00,  9.40it/s]\n",
            "Validation: 100%|██████████| 94/94 [00:04<00:00, 20.74it/s]\n"
          ]
        },
        {
          "output_type": "stream",
          "name": "stdout",
          "text": [
            "Epoch: 25 | Epoch Train Time: 0m 33s\n",
            "\tTrain Loss: 2.154 | Train Acc: 21.08%\n",
            "\t Val. Loss: 2.156 |  Val. Acc: 21.60%\n"
          ]
        },
        {
          "output_type": "stream",
          "name": "stderr",
          "text": [
            "Training: 100%|██████████| 313/313 [00:33<00:00,  9.32it/s]\n",
            "Validation: 100%|██████████| 94/94 [00:04<00:00, 19.93it/s]\n"
          ]
        },
        {
          "output_type": "stream",
          "name": "stdout",
          "text": [
            "Epoch: 26 | Epoch Train Time: 0m 33s\n",
            "\tTrain Loss: 2.151 | Train Acc: 21.15%\n",
            "\t Val. Loss: 2.152 |  Val. Acc: 21.87%\n"
          ]
        },
        {
          "output_type": "stream",
          "name": "stderr",
          "text": [
            "Training: 100%|██████████| 313/313 [00:33<00:00,  9.44it/s]\n",
            "Validation: 100%|██████████| 94/94 [00:04<00:00, 20.29it/s]\n"
          ]
        },
        {
          "output_type": "stream",
          "name": "stdout",
          "text": [
            "Epoch: 27 | Epoch Train Time: 0m 33s\n",
            "\tTrain Loss: 2.144 | Train Acc: 21.52%\n",
            "\t Val. Loss: 2.151 |  Val. Acc: 21.00%\n"
          ]
        },
        {
          "output_type": "stream",
          "name": "stderr",
          "text": [
            "Training: 100%|██████████| 313/313 [00:33<00:00,  9.43it/s]\n",
            "Validation: 100%|██████████| 94/94 [00:04<00:00, 20.58it/s]\n"
          ]
        },
        {
          "output_type": "stream",
          "name": "stdout",
          "text": [
            "Epoch: 28 | Epoch Train Time: 0m 33s\n",
            "\tTrain Loss: 2.141 | Train Acc: 21.56%\n",
            "\t Val. Loss: 2.137 |  Val. Acc: 21.40%\n"
          ]
        },
        {
          "output_type": "stream",
          "name": "stderr",
          "text": [
            "Training: 100%|██████████| 313/313 [00:32<00:00,  9.49it/s]\n",
            "Validation: 100%|██████████| 94/94 [00:04<00:00, 20.42it/s]\n"
          ]
        },
        {
          "output_type": "stream",
          "name": "stdout",
          "text": [
            "Epoch: 29 | Epoch Train Time: 0m 32s\n",
            "\tTrain Loss: 2.136 | Train Acc: 21.50%\n",
            "\t Val. Loss: 2.138 |  Val. Acc: 21.63%\n"
          ]
        },
        {
          "output_type": "stream",
          "name": "stderr",
          "text": [
            "Training: 100%|██████████| 313/313 [00:33<00:00,  9.48it/s]\n",
            "Validation: 100%|██████████| 94/94 [00:04<00:00, 19.92it/s]\n"
          ]
        },
        {
          "output_type": "stream",
          "name": "stdout",
          "text": [
            "Epoch: 30 | Epoch Train Time: 0m 33s\n",
            "\tTrain Loss: 2.135 | Train Acc: 21.97%\n",
            "\t Val. Loss: 2.131 |  Val. Acc: 22.07%\n"
          ]
        },
        {
          "output_type": "stream",
          "name": "stderr",
          "text": [
            "Training: 100%|██████████| 313/313 [00:32<00:00,  9.54it/s]\n",
            "Validation: 100%|██████████| 94/94 [00:04<00:00, 20.56it/s]\n"
          ]
        },
        {
          "output_type": "stream",
          "name": "stdout",
          "text": [
            "Epoch: 31 | Epoch Train Time: 0m 32s\n",
            "\tTrain Loss: 2.126 | Train Acc: 22.20%\n",
            "\t Val. Loss: 2.130 |  Val. Acc: 21.77%\n"
          ]
        },
        {
          "output_type": "stream",
          "name": "stderr",
          "text": [
            "Training: 100%|██████████| 313/313 [00:33<00:00,  9.46it/s]\n",
            "Validation: 100%|██████████| 94/94 [00:04<00:00, 20.71it/s]\n"
          ]
        },
        {
          "output_type": "stream",
          "name": "stdout",
          "text": [
            "Epoch: 32 | Epoch Train Time: 0m 33s\n",
            "\tTrain Loss: 2.122 | Train Acc: 22.13%\n",
            "\t Val. Loss: 2.122 |  Val. Acc: 22.03%\n"
          ]
        },
        {
          "output_type": "stream",
          "name": "stderr",
          "text": [
            "Training: 100%|██████████| 313/313 [00:33<00:00,  9.41it/s]\n",
            "Validation: 100%|██████████| 94/94 [00:04<00:00, 20.74it/s]\n"
          ]
        },
        {
          "output_type": "stream",
          "name": "stdout",
          "text": [
            "Epoch: 33 | Epoch Train Time: 0m 33s\n",
            "\tTrain Loss: 2.121 | Train Acc: 21.77%\n",
            "\t Val. Loss: 2.122 |  Val. Acc: 22.23%\n"
          ]
        },
        {
          "output_type": "stream",
          "name": "stderr",
          "text": [
            "Training: 100%|██████████| 313/313 [00:33<00:00,  9.45it/s]\n",
            "Validation: 100%|██████████| 94/94 [00:04<00:00, 20.29it/s]\n"
          ]
        },
        {
          "output_type": "stream",
          "name": "stdout",
          "text": [
            "Epoch: 34 | Epoch Train Time: 0m 33s\n",
            "\tTrain Loss: 2.117 | Train Acc: 22.28%\n",
            "\t Val. Loss: 2.110 |  Val. Acc: 22.17%\n"
          ]
        },
        {
          "output_type": "stream",
          "name": "stderr",
          "text": [
            "Training: 100%|██████████| 313/313 [00:33<00:00,  9.43it/s]\n",
            "Validation: 100%|██████████| 94/94 [00:04<00:00, 19.55it/s]\n"
          ]
        },
        {
          "output_type": "stream",
          "name": "stdout",
          "text": [
            "Epoch: 35 | Epoch Train Time: 0m 33s\n",
            "\tTrain Loss: 2.110 | Train Acc: 22.47%\n",
            "\t Val. Loss: 2.120 |  Val. Acc: 22.33%\n"
          ]
        },
        {
          "output_type": "stream",
          "name": "stderr",
          "text": [
            "Training: 100%|██████████| 313/313 [00:33<00:00,  9.47it/s]\n",
            "Validation: 100%|██████████| 94/94 [00:04<00:00, 20.47it/s]\n"
          ]
        },
        {
          "output_type": "stream",
          "name": "stdout",
          "text": [
            "Epoch: 36 | Epoch Train Time: 0m 33s\n",
            "\tTrain Loss: 2.108 | Train Acc: 22.27%\n",
            "\t Val. Loss: 2.113 |  Val. Acc: 22.33%\n"
          ]
        },
        {
          "output_type": "stream",
          "name": "stderr",
          "text": [
            "Training: 100%|██████████| 313/313 [00:33<00:00,  9.44it/s]\n",
            "Validation: 100%|██████████| 94/94 [00:04<00:00, 20.83it/s]\n"
          ]
        },
        {
          "output_type": "stream",
          "name": "stdout",
          "text": [
            "Epoch: 37 | Epoch Train Time: 0m 33s\n",
            "\tTrain Loss: 2.107 | Train Acc: 22.85%\n",
            "\t Val. Loss: 2.109 |  Val. Acc: 23.03%\n"
          ]
        },
        {
          "output_type": "stream",
          "name": "stderr",
          "text": [
            "Training: 100%|██████████| 313/313 [00:33<00:00,  9.45it/s]\n",
            "Validation: 100%|██████████| 94/94 [00:04<00:00, 20.39it/s]\n"
          ]
        },
        {
          "output_type": "stream",
          "name": "stdout",
          "text": [
            "Epoch: 38 | Epoch Train Time: 0m 33s\n",
            "\tTrain Loss: 2.104 | Train Acc: 22.32%\n",
            "\t Val. Loss: 2.102 |  Val. Acc: 22.97%\n"
          ]
        },
        {
          "output_type": "stream",
          "name": "stderr",
          "text": [
            "Training: 100%|██████████| 313/313 [00:33<00:00,  9.43it/s]\n",
            "Validation: 100%|██████████| 94/94 [00:04<00:00, 19.86it/s]\n"
          ]
        },
        {
          "output_type": "stream",
          "name": "stdout",
          "text": [
            "Epoch: 39 | Epoch Train Time: 0m 33s\n",
            "\tTrain Loss: 2.098 | Train Acc: 23.18%\n",
            "\t Val. Loss: 2.098 |  Val. Acc: 23.13%\n"
          ]
        },
        {
          "output_type": "stream",
          "name": "stderr",
          "text": [
            "Training: 100%|██████████| 313/313 [00:33<00:00,  9.47it/s]\n",
            "Validation: 100%|██████████| 94/94 [00:04<00:00, 20.45it/s]\n"
          ]
        },
        {
          "output_type": "stream",
          "name": "stdout",
          "text": [
            "Epoch: 40 | Epoch Train Time: 0m 33s\n",
            "\tTrain Loss: 2.094 | Train Acc: 22.92%\n",
            "\t Val. Loss: 2.088 |  Val. Acc: 23.47%\n"
          ]
        },
        {
          "output_type": "stream",
          "name": "stderr",
          "text": [
            "Training: 100%|██████████| 313/313 [00:33<00:00,  9.39it/s]\n",
            "Validation: 100%|██████████| 94/94 [00:04<00:00, 20.39it/s]\n"
          ]
        },
        {
          "output_type": "stream",
          "name": "stdout",
          "text": [
            "Epoch: 41 | Epoch Train Time: 0m 33s\n",
            "\tTrain Loss: 2.089 | Train Acc: 23.21%\n",
            "\t Val. Loss: 2.085 |  Val. Acc: 23.23%\n"
          ]
        },
        {
          "output_type": "stream",
          "name": "stderr",
          "text": [
            "Training: 100%|██████████| 313/313 [00:33<00:00,  9.39it/s]\n",
            "Validation: 100%|██████████| 94/94 [00:04<00:00, 20.32it/s]\n"
          ]
        },
        {
          "output_type": "stream",
          "name": "stdout",
          "text": [
            "Epoch: 42 | Epoch Train Time: 0m 33s\n",
            "\tTrain Loss: 2.087 | Train Acc: 23.15%\n",
            "\t Val. Loss: 2.079 |  Val. Acc: 23.77%\n"
          ]
        },
        {
          "output_type": "stream",
          "name": "stderr",
          "text": [
            "Training: 100%|██████████| 313/313 [00:33<00:00,  9.41it/s]\n",
            "Validation: 100%|██████████| 94/94 [00:04<00:00, 19.83it/s]\n"
          ]
        },
        {
          "output_type": "stream",
          "name": "stdout",
          "text": [
            "Epoch: 43 | Epoch Train Time: 0m 33s\n",
            "\tTrain Loss: 2.084 | Train Acc: 23.61%\n",
            "\t Val. Loss: 2.087 |  Val. Acc: 24.10%\n"
          ]
        },
        {
          "output_type": "stream",
          "name": "stderr",
          "text": [
            "Training: 100%|██████████| 313/313 [00:33<00:00,  9.40it/s]\n",
            "Validation: 100%|██████████| 94/94 [00:04<00:00, 20.65it/s]\n"
          ]
        },
        {
          "output_type": "stream",
          "name": "stdout",
          "text": [
            "Epoch: 44 | Epoch Train Time: 0m 33s\n",
            "\tTrain Loss: 2.080 | Train Acc: 23.40%\n",
            "\t Val. Loss: 2.075 |  Val. Acc: 24.20%\n"
          ]
        },
        {
          "output_type": "stream",
          "name": "stderr",
          "text": [
            "Training: 100%|██████████| 313/313 [00:33<00:00,  9.35it/s]\n",
            "Validation: 100%|██████████| 94/94 [00:04<00:00, 20.52it/s]\n"
          ]
        },
        {
          "output_type": "stream",
          "name": "stdout",
          "text": [
            "Epoch: 45 | Epoch Train Time: 0m 33s\n",
            "\tTrain Loss: 2.072 | Train Acc: 23.89%\n",
            "\t Val. Loss: 2.070 |  Val. Acc: 24.40%\n"
          ]
        },
        {
          "output_type": "stream",
          "name": "stderr",
          "text": [
            "Training: 100%|██████████| 313/313 [00:33<00:00,  9.34it/s]\n",
            "Validation: 100%|██████████| 94/94 [00:04<00:00, 20.29it/s]\n"
          ]
        },
        {
          "output_type": "stream",
          "name": "stdout",
          "text": [
            "Epoch: 46 | Epoch Train Time: 0m 33s\n",
            "\tTrain Loss: 2.071 | Train Acc: 23.67%\n",
            "\t Val. Loss: 2.066 |  Val. Acc: 24.47%\n"
          ]
        },
        {
          "output_type": "stream",
          "name": "stderr",
          "text": [
            "Training: 100%|██████████| 313/313 [00:33<00:00,  9.42it/s]\n",
            "Validation: 100%|██████████| 94/94 [00:04<00:00, 19.81it/s]\n"
          ]
        },
        {
          "output_type": "stream",
          "name": "stdout",
          "text": [
            "Epoch: 47 | Epoch Train Time: 0m 33s\n",
            "\tTrain Loss: 2.068 | Train Acc: 24.25%\n",
            "\t Val. Loss: 2.066 |  Val. Acc: 24.77%\n"
          ]
        },
        {
          "output_type": "stream",
          "name": "stderr",
          "text": [
            "Training: 100%|██████████| 313/313 [00:33<00:00,  9.35it/s]\n",
            "Validation: 100%|██████████| 94/94 [00:04<00:00, 20.58it/s]\n"
          ]
        },
        {
          "output_type": "stream",
          "name": "stdout",
          "text": [
            "Epoch: 48 | Epoch Train Time: 0m 33s\n",
            "\tTrain Loss: 2.063 | Train Acc: 23.99%\n",
            "\t Val. Loss: 2.067 |  Val. Acc: 24.67%\n"
          ]
        },
        {
          "output_type": "stream",
          "name": "stderr",
          "text": [
            "Training: 100%|██████████| 313/313 [00:33<00:00,  9.39it/s]\n",
            "Validation: 100%|██████████| 94/94 [00:04<00:00, 20.48it/s]\n"
          ]
        },
        {
          "output_type": "stream",
          "name": "stdout",
          "text": [
            "Epoch: 49 | Epoch Train Time: 0m 33s\n",
            "\tTrain Loss: 2.062 | Train Acc: 24.64%\n",
            "\t Val. Loss: 2.054 |  Val. Acc: 24.53%\n"
          ]
        },
        {
          "output_type": "stream",
          "name": "stderr",
          "text": [
            "Training: 100%|██████████| 313/313 [00:33<00:00,  9.40it/s]\n",
            "Validation: 100%|██████████| 94/94 [00:04<00:00, 19.72it/s]"
          ]
        },
        {
          "output_type": "stream",
          "name": "stdout",
          "text": [
            "Epoch: 50 | Epoch Train Time: 0m 33s\n",
            "\tTrain Loss: 2.060 | Train Acc: 24.25%\n",
            "\t Val. Loss: 2.052 |  Val. Acc: 24.23%\n",
            "Train finished\n"
          ]
        },
        {
          "output_type": "stream",
          "name": "stderr",
          "text": [
            "\n"
          ]
        }
      ],
      "source": [
        "trainer = MelonTrainer(\n",
        "    model=model,\n",
        "    criterion=criterion,\n",
        "    optimizer=optimizer,\n",
        "    device=device,\n",
        "    memory_budget=4096 * 1024**2\n",
        ")\n",
        "\n",
        "EPOCHS = 50\n",
        "best_valid_loss = float('inf')\n",
        "total_time = 0\n",
        "for epoch in range(EPOCHS):\n",
        "    train_loss, train_acc, start_time, end_time = trainer.train(train_iterator)\n",
        "    valid_loss, valid_acc = evaluate(model, valid_iterator, criterion, device)\n",
        "    epoch_mins, epoch_secs = epoch_time(start_time, end_time)\n",
        "    epoch_duration = epoch_mins * 60 + epoch_secs\n",
        "    total_time += epoch_duration\n",
        "\n",
        "    print(f'Epoch: {epoch+1:02} | Epoch Train Time: {epoch_mins}m {epoch_secs}s')\n",
        "    print(f'\\tTrain Loss: {train_loss:.3f} | Train Acc: {train_acc:.2f}%')\n",
        "    print(f'\\t Val. Loss: {valid_loss:.3f} |  Val. Acc: {valid_acc:.2f}%')\n",
        "\n",
        "print(\"Train finished\")\n",
        "#print_gpu_utilization()"
      ]
    },
    {
      "cell_type": "code",
      "source": [
        "print_gpu_utilization()"
      ],
      "metadata": {
        "id": "K_RbzQQEX9J5",
        "colab": {
          "base_uri": "https://localhost:8080/"
        },
        "outputId": "9131052e-672a-4dc2-9e8e-d7edf58fbae7"
      },
      "execution_count": 31,
      "outputs": [
        {
          "output_type": "stream",
          "name": "stdout",
          "text": [
            "Allocated Memory: 0.10 GB\n",
            "Reserved Memory: 0.44 GB\n"
          ]
        }
      ]
    },
    {
      "cell_type": "code",
      "source": [
        "free_memory, total_memory = torch.cuda.mem_get_info()\n",
        "print(f\"Free memory: {free_memory / 1024**2:.2f} MB\")\n",
        "print(f\"Total memory: {total_memory / 1024**2:.2f} MB\")"
      ],
      "metadata": {
        "id": "mddh-LmVYhVe",
        "colab": {
          "base_uri": "https://localhost:8080/"
        },
        "outputId": "04e7672f-84b4-4aad-cbba-1c7b4f562346"
      },
      "execution_count": 32,
      "outputs": [
        {
          "output_type": "stream",
          "name": "stdout",
          "text": [
            "Free memory: 39544.81 MB\n",
            "Total memory: 40513.81 MB\n"
          ]
        }
      ]
    },
    {
      "cell_type": "code",
      "execution_count": 33,
      "metadata": {
        "id": "0YfjvTjYWIR9",
        "colab": {
          "base_uri": "https://localhost:8080/"
        },
        "outputId": "f0de8fd1-f883-4b9e-8d24-5846c0a708bb"
      },
      "outputs": [
        {
          "output_type": "stream",
          "name": "stdout",
          "text": [
            "ResNet18 with Melon\n",
            "Total Training Time: 27m 25s\n"
          ]
        }
      ],
      "source": [
        "print(\"ResNet18 with Melon\")\n",
        "print(f'Total Training Time: {int(total_time/60)}m {int(total_time%60)}s')"
      ]
    },
    {
      "cell_type": "code",
      "source": [
        "from torch import profiler\n",
        "\n",
        "dummy_input = torch.randn(32, 3, 224, 224).cuda()\n",
        "\n",
        "# Profiling inference\n",
        "with profiler.profile(\n",
        "    activities=[\n",
        "       profiler.ProfilerActivity.CPU,\n",
        "        profiler.ProfilerActivity.CUDA,  # Include if using GPU\n",
        "    ],\n",
        "    on_trace_ready=profiler.tensorboard_trace_handler(\"./logs\"),  # Optional logging\n",
        "    record_shapes=True,\n",
        "    with_stack=True\n",
        ") as prof:\n",
        "    with torch.no_grad():\n",
        "        model(dummy_input)\n",
        "\n",
        "\n",
        "# Print results\n",
        "print(prof.key_averages().table(sort_by=\"cuda_time_total\" if torch.cuda.is_available() else \"cpu_time_total\", row_limit=10))"
      ],
      "metadata": {
        "id": "-G2lgTlpwF2z",
        "colab": {
          "base_uri": "https://localhost:8080/"
        },
        "outputId": "41ee81cd-f103-421e-ffa2-c07edfb0c6fb"
      },
      "execution_count": 34,
      "outputs": [
        {
          "output_type": "stream",
          "name": "stdout",
          "text": [
            "-------------------------------------------------------  ------------  ------------  ------------  ------------  ------------  ------------  ------------  ------------  ------------  ------------  \n",
            "                                                   Name    Self CPU %      Self CPU   CPU total %     CPU total  CPU time avg     Self CUDA   Self CUDA %    CUDA total  CUDA time avg    # of Calls  \n",
            "-------------------------------------------------------  ------------  ------------  ------------  ------------  ------------  ------------  ------------  ------------  ------------  ------------  \n",
            "                                           aten::conv2d         1.89%     313.629us        53.52%       8.889ms     444.458us       0.000us         0.00%       2.695ms     134.774us            20  \n",
            "                                      aten::convolution         1.19%     197.234us        51.63%       8.576ms     428.777us       0.000us         0.00%       2.695ms     134.774us            20  \n",
            "                                     aten::_convolution        17.11%       2.843ms        50.44%       8.378ms     418.915us       0.000us         0.00%       2.695ms     134.774us            20  \n",
            "                                aten::cudnn_convolution        28.09%       4.667ms        33.32%       5.535ms     276.774us       2.695ms        65.47%       2.695ms     134.774us            20  \n",
            "                                     CheckpointFunction         6.63%       1.101ms        13.95%       2.318ms       2.318ms       0.000us         0.00%       1.085ms       1.085ms             1  \n",
            "void cudnn::engines_precompiled::nchwToNhwcKernel<fl...         0.00%       0.000us         0.00%       0.000us       0.000us     655.867us        15.93%     655.867us      17.260us            38  \n",
            "sm80_xmma_fprop_implicit_gemm_tf32f32_tf32f32_f32_nh...         0.00%       0.000us         0.00%       0.000us       0.000us     654.238us        15.89%     654.238us      65.424us            10  \n",
            "                                       aten::batch_norm         0.67%     111.653us        28.05%       4.659ms     232.930us       0.000us         0.00%     640.928us      32.046us            20  \n",
            "                           aten::_batch_norm_impl_index         1.68%     279.313us        27.37%       4.547ms     227.347us       0.000us         0.00%     640.928us      32.046us            20  \n",
            "                                 aten::cudnn_batch_norm        18.09%       3.005ms        25.69%       4.268ms     213.382us     640.928us        15.57%     640.928us      32.046us            20  \n",
            "-------------------------------------------------------  ------------  ------------  ------------  ------------  ------------  ------------  ------------  ------------  ------------  ------------  \n",
            "Self CPU time total: 16.611ms\n",
            "Self CUDA time total: 4.117ms\n",
            "\n"
          ]
        }
      ]
    }
  ],
  "metadata": {
    "kernelspec": {
      "display_name": "Python 3",
      "name": "python3"
    },
    "language_info": {
      "codemirror_mode": {
        "name": "ipython",
        "version": 3
      },
      "file_extension": ".py",
      "mimetype": "text/x-python",
      "name": "python",
      "nbconvert_exporter": "python",
      "pygments_lexer": "ipython3",
      "version": "3.12.4"
    },
    "colab": {
      "provenance": [],
      "gpuType": "A100",
      "machine_shape": "hm"
    },
    "accelerator": "GPU"
  },
  "nbformat": 4,
  "nbformat_minor": 0
}