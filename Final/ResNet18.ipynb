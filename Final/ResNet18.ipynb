{
  "cells": [
    {
      "cell_type": "code",
      "source": [
        "!pip install pynvml"
      ],
      "metadata": {
        "colab": {
          "base_uri": "https://localhost:8080/"
        },
        "id": "c1UXBZ2kzoX1",
        "outputId": "8a51fd08-3a22-4e99-a827-8cf5f6de8992"
      },
      "execution_count": 1,
      "outputs": [
        {
          "output_type": "stream",
          "name": "stdout",
          "text": [
            "Collecting pynvml\n",
            "  Downloading pynvml-12.0.0-py3-none-any.whl.metadata (5.4 kB)\n",
            "Collecting nvidia-ml-py<13.0.0a0,>=12.0.0 (from pynvml)\n",
            "  Downloading nvidia_ml_py-12.560.30-py3-none-any.whl.metadata (8.6 kB)\n",
            "Downloading pynvml-12.0.0-py3-none-any.whl (26 kB)\n",
            "Downloading nvidia_ml_py-12.560.30-py3-none-any.whl (40 kB)\n",
            "\u001b[?25l   \u001b[90m━━━━━━━━━━━━━━━━━━━━━━━━━━━━━━━━━━━━━━━━\u001b[0m \u001b[32m0.0/40.5 kB\u001b[0m \u001b[31m?\u001b[0m eta \u001b[36m-:--:--\u001b[0m\r\u001b[2K   \u001b[90m━━━━━━━━━━━━━━━━━━━━━━━━━━━━━━━━━━━━━━━━\u001b[0m \u001b[32m40.5/40.5 kB\u001b[0m \u001b[31m3.6 MB/s\u001b[0m eta \u001b[36m0:00:00\u001b[0m\n",
            "\u001b[?25hInstalling collected packages: nvidia-ml-py, pynvml\n",
            "Successfully installed nvidia-ml-py-12.560.30 pynvml-12.0.0\n"
          ]
        }
      ]
    },
    {
      "cell_type": "code",
      "execution_count": 2,
      "metadata": {
        "id": "iR74754xWIR3"
      },
      "outputs": [],
      "source": [
        "import torch\n",
        "import torch.nn as nn\n",
        "import torch.nn.functional as F\n",
        "import torch.optim as optim\n",
        "import torch.utils.data as data\n",
        "import torchvision\n",
        "import torchvision.transforms as transforms\n",
        "import torchvision.datasets as datasets\n",
        "import torchvision.models as models\n",
        "from torch.profiler import profile, record_function, ProfilerActivity, tensorboard_trace_handler\n",
        "\n",
        "import matplotlib.pyplot as plt\n",
        "import numpy as np\n",
        "\n",
        "import copy\n",
        "from collections import namedtuple\n",
        "import time\n",
        "import os\n",
        "import random\n",
        "\n",
        "import cv2\n",
        "from torch.utils.data import Dataset, DataLoader, Subset\n",
        "from PIL import Image\n",
        "\n",
        "from tqdm import tqdm\n",
        "from pynvml import *\n",
        "\n",
        "device = torch.device(\"cuda:0\" if torch.cuda.is_available() else \"cpu\")"
      ]
    },
    {
      "cell_type": "code",
      "source": [
        "def print_gpu_utilization():\n",
        "    if torch.cuda.is_available():\n",
        "        device = torch.cuda.current_device()  # 현재 GPU 디바이스 정보\n",
        "        allocated_memory = torch.cuda.memory_allocated(device) / 1024**3  # 메모리 사용량 (GB)\n",
        "        reserved_memory = torch.cuda.memory_reserved(device) / 1024**3  # 예약된 메모리 (GB)\n",
        "        print(f\"Allocated Memory: {allocated_memory:.2f} GB\")\n",
        "        print(f\"Reserved Memory: {reserved_memory:.2f} GB\")\n",
        "    else:\n",
        "        print(\"No GPU available.\")"
      ],
      "metadata": {
        "id": "KutboPCzza4_"
      },
      "execution_count": 3,
      "outputs": []
    },
    {
      "cell_type": "code",
      "source": [
        "def print_summary(result):\n",
        "    print(f\"Time: {result.metrics['train_runtime']:.2f}\")\n",
        "    print(f\"Samples/second: {result.metrics['train_samples_per_second']:.2f}\")\n",
        "    print_gpu_utilization()"
      ],
      "metadata": {
        "id": "_8xbvf80zvjG"
      },
      "execution_count": 4,
      "outputs": []
    },
    {
      "cell_type": "code",
      "execution_count": 5,
      "metadata": {
        "id": "ntBtU40OWIR5"
      },
      "outputs": [],
      "source": [
        "size = 224\n",
        "mean = (0.485, 0.456, 0.406)\n",
        "std = (0.229, 0.224, 0.225)\n",
        "batch_size = 32"
      ]
    },
    {
      "cell_type": "code",
      "execution_count": 6,
      "metadata": {
        "id": "NkTBa1iCWIR5"
      },
      "outputs": [],
      "source": [
        "train_transforms = transforms.Compose([\n",
        "    transforms.RandomResizedCrop(size, scale=(0.5, 1.0)),\n",
        "    transforms.RandomHorizontalFlip(),\n",
        "    transforms.ToTensor(),\n",
        "    transforms.Normalize(mean, std)\n",
        "])\n",
        "\n",
        "test_transforms = transforms.Compose([\n",
        "    transforms.Resize(256),\n",
        "    transforms.CenterCrop(size),\n",
        "    transforms.ToTensor(),\n",
        "    transforms.Normalize(mean, std)\n",
        "])"
      ]
    },
    {
      "cell_type": "code",
      "execution_count": 7,
      "metadata": {
        "colab": {
          "base_uri": "https://localhost:8080/"
        },
        "id": "68SaArxkWIR5",
        "outputId": "17768644-a0a0-4847-bbfa-b022258303f0"
      },
      "outputs": [
        {
          "output_type": "stream",
          "name": "stdout",
          "text": [
            "Downloading https://www.cs.toronto.edu/~kriz/cifar-10-python.tar.gz to ./data/cifar-10-python.tar.gz\n"
          ]
        },
        {
          "output_type": "stream",
          "name": "stderr",
          "text": [
            "100%|██████████| 170M/170M [00:03<00:00, 52.0MB/s]\n"
          ]
        },
        {
          "output_type": "stream",
          "name": "stdout",
          "text": [
            "Extracting ./data/cifar-10-python.tar.gz to ./data\n",
            "Files already downloaded and verified\n"
          ]
        }
      ],
      "source": [
        "# CIFAR-10\n",
        "trainset = datasets.CIFAR10(root='./data', train=True, download=True, transform=train_transforms)\n",
        "trainloader = DataLoader(trainset, batch_size=batch_size, shuffle=True)\n",
        "\n",
        "testset = datasets.CIFAR10(root='./data', train=False, download=True, transform=test_transforms)\n",
        "testloader = DataLoader(testset, batch_size=batch_size, shuffle=False)"
      ]
    },
    {
      "cell_type": "code",
      "execution_count": 8,
      "metadata": {
        "id": "HISYmEIlWIR6"
      },
      "outputs": [],
      "source": [
        "VALID_RATIO = 0.7\n",
        "n_train_examples = int(len(trainset) * VALID_RATIO)\n",
        "n_valid_examples = len(trainset) - n_train_examples\n",
        "\n",
        "train_data, valid_data = data.random_split(trainset, [n_train_examples, n_valid_examples])"
      ]
    },
    {
      "cell_type": "code",
      "execution_count": 9,
      "metadata": {
        "id": "nKkwwymDWIR6"
      },
      "outputs": [],
      "source": [
        "valid_data = copy.deepcopy(valid_data)\n",
        "valid_data.dataset.transform = test_transforms"
      ]
    },
    {
      "cell_type": "code",
      "execution_count": 10,
      "metadata": {
        "colab": {
          "base_uri": "https://localhost:8080/"
        },
        "id": "2kZE0KyvWIR6",
        "outputId": "e1ddd1c2-6199-43a0-db36-f2407912a4b8"
      },
      "outputs": [
        {
          "output_type": "execute_result",
          "data": {
            "text/plain": [
              "(35000, 15000, 10000)"
            ]
          },
          "metadata": {},
          "execution_count": 10
        }
      ],
      "source": [
        "len(train_data), len(valid_data), len(testset)"
      ]
    },
    {
      "cell_type": "code",
      "execution_count": 11,
      "metadata": {
        "id": "NgFbnxO2WIR7"
      },
      "outputs": [],
      "source": [
        "sample_fraction = 0.2\n",
        "\n",
        "# 무작위 인덱스 생성\n",
        "train_indices = torch.randperm(len(trainset))[:int(len(trainset) * sample_fraction)]\n",
        "valid_indices = torch.randperm(len(valid_data))[:int(len(valid_data) * sample_fraction)]\n",
        "test_indices = torch.randperm(len(testset))[:int(len(testset) * sample_fraction)]\n",
        "\n",
        "# 서브셋 생성\n",
        "train_subset = Subset(trainset, train_indices)\n",
        "valid_subset = Subset(valid_data, valid_indices)\n",
        "test_subset = Subset(testset, test_indices)"
      ]
    },
    {
      "cell_type": "code",
      "execution_count": 12,
      "metadata": {
        "colab": {
          "base_uri": "https://localhost:8080/"
        },
        "id": "-UMCcWRjWIR7",
        "outputId": "ce40776f-1acd-4206-a6c6-c62f54d9ad64"
      },
      "outputs": [
        {
          "output_type": "execute_result",
          "data": {
            "text/plain": [
              "(10000, 3000, 2000)"
            ]
          },
          "metadata": {},
          "execution_count": 12
        }
      ],
      "source": [
        "len(train_subset), len(valid_subset), len(test_subset)"
      ]
    },
    {
      "cell_type": "code",
      "execution_count": 13,
      "metadata": {
        "id": "KIuqCxeGWIR7"
      },
      "outputs": [],
      "source": [
        "train_iterator = DataLoader(train_subset, batch_size=batch_size, shuffle=True)\n",
        "valid_iterator = DataLoader(valid_subset, batch_size=batch_size, shuffle=False)\n",
        "test_iterator = DataLoader(test_subset, batch_size=batch_size, shuffle=False)"
      ]
    },
    {
      "cell_type": "code",
      "execution_count": 14,
      "metadata": {
        "id": "6mVcfuK7WIR7"
      },
      "outputs": [],
      "source": [
        "class BasicBlock(nn.Module):\n",
        "    expansion = 1\n",
        "\n",
        "    def __init__(self, in_channels, out_channels, stride=1, downsample = False):\n",
        "        super(BasicBlock, self).__init__()\n",
        "        self.conv1 = nn.Conv2d(in_channels, out_channels, kernel_size=3, stride=stride, padding=1, bias=False)\n",
        "        self.bn1 = nn.BatchNorm2d(out_channels)\n",
        "        self.conv2 = nn.Conv2d(out_channels, out_channels, kernel_size=3, stride=1, padding=1, bias=False)\n",
        "        self.bn2 = nn.BatchNorm2d(out_channels)\n",
        "        self.relu = nn.ReLU(inplace=True)\n",
        "\n",
        "        if downsample:\n",
        "            conv = nn.Conv2d(in_channels, out_channels, kernel_size=1, stride=stride, bias=False)\n",
        "            bn = nn.BatchNorm2d(out_channels)\n",
        "            downsample = nn.Sequential(conv, bn)\n",
        "        else:\n",
        "            downsample = None\n",
        "        self.downsample = downsample\n",
        "\n",
        "    def forward(self, x):\n",
        "        i = x\n",
        "        x = self.conv1(x)\n",
        "        x = self.bn1(x)\n",
        "        x = self.relu(x)\n",
        "        x = self.conv2(x)\n",
        "        x = self.bn2(x)\n",
        "\n",
        "        if self.downsample is not None:\n",
        "            i = self.downsample(i)\n",
        "\n",
        "        x += i\n",
        "        x = self.relu(x)\n",
        "\n",
        "        return x"
      ]
    },
    {
      "cell_type": "code",
      "execution_count": 15,
      "metadata": {
        "id": "Ijsu-aH8WIR7"
      },
      "outputs": [],
      "source": [
        "class ResNet(nn.Module):\n",
        "    def __init__(self, config, output_dim, zero_init_residual = False):\n",
        "        super().__init__()\n",
        "\n",
        "        block, n_blocks, channels = config\n",
        "        self.in_channels = channels[0]\n",
        "        assert len(n_blocks) == len(channels) == 4\n",
        "\n",
        "        self.conv1 = nn.Conv2d(3, self.in_channels, kernel_size=7, stride=2, padding=3, bias=False)\n",
        "        self.bn1 = nn.BatchNorm2d(self.in_channels)\n",
        "        self.relu = nn.ReLU(inplace=True)\n",
        "        self.maxpool = nn.MaxPool2d(kernel_size=3, stride=2, padding=1)\n",
        "\n",
        "        self.layer1 = self.get_resnet_layer(block, n_blocks[0], channels[0])\n",
        "        self.layer2 = self.get_resnet_layer(block, n_blocks[1], channels[1], stride=2)\n",
        "        self.layer3 = self.get_resnet_layer(block, n_blocks[2], channels[2], stride=2)\n",
        "        self.layer4 = self.get_resnet_layer(block, n_blocks[3], channels[3], stride=2)\n",
        "\n",
        "        self.avgpool = nn.AdaptiveAvgPool2d((1, 1))\n",
        "        self.fc = nn.Linear(self.in_channels, output_dim)\n",
        "\n",
        "        if zero_init_residual:\n",
        "            for m in self.modules():\n",
        "                if isinstance(m, BasicBlock):\n",
        "                    nn.init.constant_(m.bn2.weight, 0)\n",
        "                #elif isinstance(m, Bottleneck):\n",
        "                    #nn.init.constant_(m.bn3.weight, 0)\n",
        "\n",
        "    def get_resnet_layer(self, block, n_blocks, channels, stride=1):\n",
        "        layers = []\n",
        "        if self.in_channels != block.expansion * channels:\n",
        "            downsample = True\n",
        "        else:\n",
        "            downsample = False\n",
        "        layers.append(block(self.in_channels, channels, stride, downsample))\n",
        "        for i in range(1, n_blocks):\n",
        "            layers.append(block(block.expansion * channels, channels))\n",
        "\n",
        "        self.in_channels = block.expansion * channels\n",
        "        return nn.Sequential(*layers)\n",
        "\n",
        "    def forward(self, x):\n",
        "        x = self.conv1(x)\n",
        "        x = self.bn1(x)\n",
        "        x = self.relu(x)\n",
        "        x = self.maxpool(x)\n",
        "        x = self.layer1(x)\n",
        "        x = self.layer2(x)\n",
        "        x = self.layer3(x)\n",
        "        x = self.layer4(x)\n",
        "        x = self.avgpool(x)\n",
        "        h = x.view(x.shape[0], -1)\n",
        "        x = self.fc(h)\n",
        "        return x, h"
      ]
    },
    {
      "cell_type": "code",
      "execution_count": 16,
      "metadata": {
        "id": "fZ2g6Vv5WIR8"
      },
      "outputs": [],
      "source": [
        "ResNetConfig = namedtuple('ResNetConfig', ['block', 'n_blocks', 'channels'])"
      ]
    },
    {
      "cell_type": "code",
      "execution_count": 17,
      "metadata": {
        "id": "JyqkNDbOWIR8"
      },
      "outputs": [],
      "source": [
        "resnet18_config = ResNetConfig(block = BasicBlock, n_blocks = [2, 2, 2, 2], channels = [64, 128, 256, 512])"
      ]
    },
    {
      "cell_type": "code",
      "execution_count": 18,
      "metadata": {
        "id": "CGaz_A9yWIR8"
      },
      "outputs": [],
      "source": [
        "model = ResNet(resnet18_config, 10)"
      ]
    },
    {
      "cell_type": "code",
      "source": [
        "print(model)"
      ],
      "metadata": {
        "colab": {
          "base_uri": "https://localhost:8080/"
        },
        "id": "Qf05XuEVY50-",
        "outputId": "01955e9b-edd7-4d46-f23d-abc19ddede92"
      },
      "execution_count": 19,
      "outputs": [
        {
          "output_type": "stream",
          "name": "stdout",
          "text": [
            "ResNet(\n",
            "  (conv1): Conv2d(3, 64, kernel_size=(7, 7), stride=(2, 2), padding=(3, 3), bias=False)\n",
            "  (bn1): BatchNorm2d(64, eps=1e-05, momentum=0.1, affine=True, track_running_stats=True)\n",
            "  (relu): ReLU(inplace=True)\n",
            "  (maxpool): MaxPool2d(kernel_size=3, stride=2, padding=1, dilation=1, ceil_mode=False)\n",
            "  (layer1): Sequential(\n",
            "    (0): BasicBlock(\n",
            "      (conv1): Conv2d(64, 64, kernel_size=(3, 3), stride=(1, 1), padding=(1, 1), bias=False)\n",
            "      (bn1): BatchNorm2d(64, eps=1e-05, momentum=0.1, affine=True, track_running_stats=True)\n",
            "      (conv2): Conv2d(64, 64, kernel_size=(3, 3), stride=(1, 1), padding=(1, 1), bias=False)\n",
            "      (bn2): BatchNorm2d(64, eps=1e-05, momentum=0.1, affine=True, track_running_stats=True)\n",
            "      (relu): ReLU(inplace=True)\n",
            "    )\n",
            "    (1): BasicBlock(\n",
            "      (conv1): Conv2d(64, 64, kernel_size=(3, 3), stride=(1, 1), padding=(1, 1), bias=False)\n",
            "      (bn1): BatchNorm2d(64, eps=1e-05, momentum=0.1, affine=True, track_running_stats=True)\n",
            "      (conv2): Conv2d(64, 64, kernel_size=(3, 3), stride=(1, 1), padding=(1, 1), bias=False)\n",
            "      (bn2): BatchNorm2d(64, eps=1e-05, momentum=0.1, affine=True, track_running_stats=True)\n",
            "      (relu): ReLU(inplace=True)\n",
            "    )\n",
            "  )\n",
            "  (layer2): Sequential(\n",
            "    (0): BasicBlock(\n",
            "      (conv1): Conv2d(64, 128, kernel_size=(3, 3), stride=(2, 2), padding=(1, 1), bias=False)\n",
            "      (bn1): BatchNorm2d(128, eps=1e-05, momentum=0.1, affine=True, track_running_stats=True)\n",
            "      (conv2): Conv2d(128, 128, kernel_size=(3, 3), stride=(1, 1), padding=(1, 1), bias=False)\n",
            "      (bn2): BatchNorm2d(128, eps=1e-05, momentum=0.1, affine=True, track_running_stats=True)\n",
            "      (relu): ReLU(inplace=True)\n",
            "      (downsample): Sequential(\n",
            "        (0): Conv2d(64, 128, kernel_size=(1, 1), stride=(2, 2), bias=False)\n",
            "        (1): BatchNorm2d(128, eps=1e-05, momentum=0.1, affine=True, track_running_stats=True)\n",
            "      )\n",
            "    )\n",
            "    (1): BasicBlock(\n",
            "      (conv1): Conv2d(128, 128, kernel_size=(3, 3), stride=(1, 1), padding=(1, 1), bias=False)\n",
            "      (bn1): BatchNorm2d(128, eps=1e-05, momentum=0.1, affine=True, track_running_stats=True)\n",
            "      (conv2): Conv2d(128, 128, kernel_size=(3, 3), stride=(1, 1), padding=(1, 1), bias=False)\n",
            "      (bn2): BatchNorm2d(128, eps=1e-05, momentum=0.1, affine=True, track_running_stats=True)\n",
            "      (relu): ReLU(inplace=True)\n",
            "    )\n",
            "  )\n",
            "  (layer3): Sequential(\n",
            "    (0): BasicBlock(\n",
            "      (conv1): Conv2d(128, 256, kernel_size=(3, 3), stride=(2, 2), padding=(1, 1), bias=False)\n",
            "      (bn1): BatchNorm2d(256, eps=1e-05, momentum=0.1, affine=True, track_running_stats=True)\n",
            "      (conv2): Conv2d(256, 256, kernel_size=(3, 3), stride=(1, 1), padding=(1, 1), bias=False)\n",
            "      (bn2): BatchNorm2d(256, eps=1e-05, momentum=0.1, affine=True, track_running_stats=True)\n",
            "      (relu): ReLU(inplace=True)\n",
            "      (downsample): Sequential(\n",
            "        (0): Conv2d(128, 256, kernel_size=(1, 1), stride=(2, 2), bias=False)\n",
            "        (1): BatchNorm2d(256, eps=1e-05, momentum=0.1, affine=True, track_running_stats=True)\n",
            "      )\n",
            "    )\n",
            "    (1): BasicBlock(\n",
            "      (conv1): Conv2d(256, 256, kernel_size=(3, 3), stride=(1, 1), padding=(1, 1), bias=False)\n",
            "      (bn1): BatchNorm2d(256, eps=1e-05, momentum=0.1, affine=True, track_running_stats=True)\n",
            "      (conv2): Conv2d(256, 256, kernel_size=(3, 3), stride=(1, 1), padding=(1, 1), bias=False)\n",
            "      (bn2): BatchNorm2d(256, eps=1e-05, momentum=0.1, affine=True, track_running_stats=True)\n",
            "      (relu): ReLU(inplace=True)\n",
            "    )\n",
            "  )\n",
            "  (layer4): Sequential(\n",
            "    (0): BasicBlock(\n",
            "      (conv1): Conv2d(256, 512, kernel_size=(3, 3), stride=(2, 2), padding=(1, 1), bias=False)\n",
            "      (bn1): BatchNorm2d(512, eps=1e-05, momentum=0.1, affine=True, track_running_stats=True)\n",
            "      (conv2): Conv2d(512, 512, kernel_size=(3, 3), stride=(1, 1), padding=(1, 1), bias=False)\n",
            "      (bn2): BatchNorm2d(512, eps=1e-05, momentum=0.1, affine=True, track_running_stats=True)\n",
            "      (relu): ReLU(inplace=True)\n",
            "      (downsample): Sequential(\n",
            "        (0): Conv2d(256, 512, kernel_size=(1, 1), stride=(2, 2), bias=False)\n",
            "        (1): BatchNorm2d(512, eps=1e-05, momentum=0.1, affine=True, track_running_stats=True)\n",
            "      )\n",
            "    )\n",
            "    (1): BasicBlock(\n",
            "      (conv1): Conv2d(512, 512, kernel_size=(3, 3), stride=(1, 1), padding=(1, 1), bias=False)\n",
            "      (bn1): BatchNorm2d(512, eps=1e-05, momentum=0.1, affine=True, track_running_stats=True)\n",
            "      (conv2): Conv2d(512, 512, kernel_size=(3, 3), stride=(1, 1), padding=(1, 1), bias=False)\n",
            "      (bn2): BatchNorm2d(512, eps=1e-05, momentum=0.1, affine=True, track_running_stats=True)\n",
            "      (relu): ReLU(inplace=True)\n",
            "    )\n",
            "  )\n",
            "  (avgpool): AdaptiveAvgPool2d(output_size=(1, 1))\n",
            "  (fc): Linear(in_features=512, out_features=10, bias=True)\n",
            ")\n"
          ]
        }
      ]
    },
    {
      "cell_type": "code",
      "execution_count": 20,
      "metadata": {
        "id": "0fCSieg3WIR8"
      },
      "outputs": [],
      "source": [
        "optimizer = optim.SGD(model.parameters(), lr=0.001)\n",
        "criterion = nn.CrossEntropyLoss()\n",
        "\n",
        "pretrained_model = model.to(device)\n",
        "criterion = criterion.to(device)"
      ]
    },
    {
      "cell_type": "code",
      "execution_count": 21,
      "metadata": {
        "id": "GwVmEYKxWIR8"
      },
      "outputs": [],
      "source": [
        "def calculate_accuracy(y_pred, y):\n",
        "    top_pred = y_pred.argmax(1, keepdim=True)\n",
        "    correct = top_pred.eq(y.view_as(top_pred)).sum()\n",
        "    acc = correct.float() / y.shape[0]\n",
        "    return acc"
      ]
    },
    {
      "cell_type": "code",
      "execution_count": 22,
      "metadata": {
        "id": "ElRmHAmtWIR8"
      },
      "outputs": [],
      "source": [
        "def train(model, train_loader, criterion, optimizer, device):\n",
        "    model.train()\n",
        "    running_loss = 0.0\n",
        "    correct = 0\n",
        "    total = 0\n",
        "\n",
        "        # 훈련 루프\n",
        "    start_time = time.monotonic()\n",
        "    for inputs, labels in tqdm(train_loader, desc=\"Training\"):\n",
        "        inputs, labels = inputs.to(device), labels.to(device)\n",
        "\n",
        "        optimizer.zero_grad()  # 기울기 초기화\n",
        "        outputs = model(inputs)  # 모델 연산\n",
        "        loss = criterion(outputs[0], labels)  # 손실 계산\n",
        "        loss.backward()  # 역전파\n",
        "        optimizer.step()  # 파라미터 업데이트\n",
        "\n",
        "        running_loss += loss.item()  # 손실 누적\n",
        "        _, predicted = torch.max(outputs[0], 1)  # 예측 결과\n",
        "        total += labels.size(0)  # 총 데이터 수\n",
        "        correct += (predicted == labels).sum().item()  # 정확도 계산\n",
        "\n",
        "    # 훈련 후 평균 손실과 정확도 계산\n",
        "    end_time = time.monotonic()\n",
        "    epoch_loss = running_loss / len(train_loader)\n",
        "    accuracy = 100 * correct / total\n",
        "\n",
        "    #print(f\"Epoch: Loss = {epoch_loss:.4f}, Accuracy = {accuracy:.2f}%\")\n",
        "\n",
        "    return epoch_loss, accuracy, start_time, end_time"
      ]
    },
    {
      "cell_type": "code",
      "execution_count": 23,
      "metadata": {
        "id": "XcKNWVMyWIR8"
      },
      "outputs": [],
      "source": [
        "def evaluate(model, data_loader, criterion, device, phase=\"Validation\"):\n",
        "    model.eval()\n",
        "    running_loss = 0.0\n",
        "    correct = 0\n",
        "    total = 0\n",
        "    with torch.no_grad():\n",
        "        for inputs, labels in tqdm(data_loader, desc=f\"{phase}\"):\n",
        "            inputs, labels = inputs.to(device), labels.to(device)\n",
        "            outputs = model(inputs)\n",
        "            loss = criterion(outputs[0], labels)\n",
        "\n",
        "            running_loss += loss.item()\n",
        "            _, predicted = torch.max(outputs[0], 1)\n",
        "            total += labels.size(0)\n",
        "            correct += (predicted == labels).sum().item()\n",
        "\n",
        "    epoch_loss = running_loss / len(data_loader)\n",
        "    accuracy = 100 * correct / total\n",
        "    # print(f\"{phase} Loss: {epoch_loss:.4f}, {phase} Accuracy: {accuracy:.2f}%\")\n",
        "\n",
        "    return epoch_loss, accuracy"
      ]
    },
    {
      "cell_type": "code",
      "execution_count": 24,
      "metadata": {
        "id": "1X3CMJVlWIR9"
      },
      "outputs": [],
      "source": [
        "def epoch_time(start_time, end_time):\n",
        "    elapsed_time = end_time - start_time\n",
        "    elapsed_mins = int(elapsed_time / 60)\n",
        "    elapsed_secs = int(elapsed_time - (elapsed_mins * 60))\n",
        "    return elapsed_mins, elapsed_secs"
      ]
    },
    {
      "cell_type": "code",
      "source": [
        "torch.cuda.empty_cache()"
      ],
      "metadata": {
        "id": "CBXgAgVO0G4p"
      },
      "execution_count": 25,
      "outputs": []
    },
    {
      "cell_type": "code",
      "source": [
        "print_gpu_utilization()"
      ],
      "metadata": {
        "colab": {
          "base_uri": "https://localhost:8080/"
        },
        "id": "aiV3uFx69SM0",
        "outputId": "d93059e8-445e-4f55-83e3-1298e8d16abd"
      },
      "execution_count": 26,
      "outputs": [
        {
          "output_type": "stream",
          "name": "stdout",
          "text": [
            "Allocated Memory: 0.04 GB\n",
            "Reserved Memory: 0.06 GB\n"
          ]
        }
      ]
    },
    {
      "cell_type": "code",
      "source": [
        "free_memory, total_memory = torch.cuda.mem_get_info()\n",
        "print(f\"Free memory: {free_memory / 1024**2:.2f} MB\")\n",
        "print(f\"Total memory: {total_memory / 1024**2:.2f} MB\")"
      ],
      "metadata": {
        "colab": {
          "base_uri": "https://localhost:8080/"
        },
        "id": "PX8BoA2oYyEc",
        "outputId": "7da802df-5b98-4715-ef23-11456cc13589"
      },
      "execution_count": 27,
      "outputs": [
        {
          "output_type": "stream",
          "name": "stdout",
          "text": [
            "Free memory: 40026.81 MB\n",
            "Total memory: 40513.81 MB\n"
          ]
        }
      ]
    },
    {
      "cell_type": "code",
      "execution_count": 28,
      "metadata": {
        "colab": {
          "base_uri": "https://localhost:8080/"
        },
        "id": "bsG0saouWIR9",
        "outputId": "4109c2b1-b383-4309-ac95-683a75c25bd8"
      },
      "outputs": [
        {
          "output_type": "stream",
          "name": "stderr",
          "text": [
            "Training: 100%|██████████| 313/313 [00:22<00:00, 14.16it/s]\n",
            "Validation: 100%|██████████| 94/94 [00:04<00:00, 20.43it/s]\n"
          ]
        },
        {
          "output_type": "stream",
          "name": "stdout",
          "text": [
            "Epoch: 01 | Epoch Train Time: 0m 22s\n",
            "\tTrain Loss: 2.029 | Train Acc: 26.58%\n",
            "\t Val. Loss: 1.833 |  Val. Acc: 32.77%\n"
          ]
        },
        {
          "output_type": "stream",
          "name": "stderr",
          "text": [
            "Training: 100%|██████████| 313/313 [00:20<00:00, 15.51it/s]\n",
            "Validation: 100%|██████████| 94/94 [00:04<00:00, 20.53it/s]\n"
          ]
        },
        {
          "output_type": "stream",
          "name": "stdout",
          "text": [
            "Epoch: 02 | Epoch Train Time: 0m 20s\n",
            "\tTrain Loss: 1.797 | Train Acc: 33.27%\n",
            "\t Val. Loss: 1.722 |  Val. Acc: 37.53%\n"
          ]
        },
        {
          "output_type": "stream",
          "name": "stderr",
          "text": [
            "Training: 100%|██████████| 313/313 [00:20<00:00, 15.60it/s]\n",
            "Validation: 100%|██████████| 94/94 [00:04<00:00, 20.79it/s]\n"
          ]
        },
        {
          "output_type": "stream",
          "name": "stdout",
          "text": [
            "Epoch: 03 | Epoch Train Time: 0m 20s\n",
            "\tTrain Loss: 1.698 | Train Acc: 37.34%\n",
            "\t Val. Loss: 1.610 |  Val. Acc: 41.87%\n"
          ]
        },
        {
          "output_type": "stream",
          "name": "stderr",
          "text": [
            "Training: 100%|██████████| 313/313 [00:20<00:00, 15.44it/s]\n",
            "Validation: 100%|██████████| 94/94 [00:04<00:00, 20.00it/s]\n"
          ]
        },
        {
          "output_type": "stream",
          "name": "stdout",
          "text": [
            "Epoch: 04 | Epoch Train Time: 0m 20s\n",
            "\tTrain Loss: 1.631 | Train Acc: 40.44%\n",
            "\t Val. Loss: 1.540 |  Val. Acc: 43.07%\n"
          ]
        },
        {
          "output_type": "stream",
          "name": "stderr",
          "text": [
            "Training: 100%|██████████| 313/313 [00:20<00:00, 15.51it/s]\n",
            "Validation: 100%|██████████| 94/94 [00:04<00:00, 20.02it/s]\n"
          ]
        },
        {
          "output_type": "stream",
          "name": "stdout",
          "text": [
            "Epoch: 05 | Epoch Train Time: 0m 20s\n",
            "\tTrain Loss: 1.580 | Train Acc: 42.24%\n",
            "\t Val. Loss: 1.508 |  Val. Acc: 46.23%\n"
          ]
        },
        {
          "output_type": "stream",
          "name": "stderr",
          "text": [
            "Training: 100%|██████████| 313/313 [00:20<00:00, 15.65it/s]\n",
            "Validation: 100%|██████████| 94/94 [00:04<00:00, 19.93it/s]\n"
          ]
        },
        {
          "output_type": "stream",
          "name": "stdout",
          "text": [
            "Epoch: 06 | Epoch Train Time: 0m 20s\n",
            "\tTrain Loss: 1.509 | Train Acc: 45.74%\n",
            "\t Val. Loss: 1.461 |  Val. Acc: 46.03%\n"
          ]
        },
        {
          "output_type": "stream",
          "name": "stderr",
          "text": [
            "Training: 100%|██████████| 313/313 [00:19<00:00, 15.66it/s]\n",
            "Validation: 100%|██████████| 94/94 [00:04<00:00, 20.14it/s]\n"
          ]
        },
        {
          "output_type": "stream",
          "name": "stdout",
          "text": [
            "Epoch: 07 | Epoch Train Time: 0m 19s\n",
            "\tTrain Loss: 1.471 | Train Acc: 46.80%\n",
            "\t Val. Loss: 1.374 |  Val. Acc: 50.20%\n"
          ]
        },
        {
          "output_type": "stream",
          "name": "stderr",
          "text": [
            "Training: 100%|██████████| 313/313 [00:20<00:00, 15.63it/s]\n",
            "Validation: 100%|██████████| 94/94 [00:04<00:00, 20.73it/s]\n"
          ]
        },
        {
          "output_type": "stream",
          "name": "stdout",
          "text": [
            "Epoch: 08 | Epoch Train Time: 0m 20s\n",
            "\tTrain Loss: 1.434 | Train Acc: 48.09%\n",
            "\t Val. Loss: 1.443 |  Val. Acc: 46.57%\n"
          ]
        },
        {
          "output_type": "stream",
          "name": "stderr",
          "text": [
            "Training: 100%|██████████| 313/313 [00:20<00:00, 15.53it/s]\n",
            "Validation: 100%|██████████| 94/94 [00:04<00:00, 20.47it/s]\n"
          ]
        },
        {
          "output_type": "stream",
          "name": "stdout",
          "text": [
            "Epoch: 09 | Epoch Train Time: 0m 20s\n",
            "\tTrain Loss: 1.402 | Train Acc: 49.72%\n",
            "\t Val. Loss: 1.415 |  Val. Acc: 48.07%\n"
          ]
        },
        {
          "output_type": "stream",
          "name": "stderr",
          "text": [
            "Training: 100%|██████████| 313/313 [00:20<00:00, 15.45it/s]\n",
            "Validation: 100%|██████████| 94/94 [00:04<00:00, 20.23it/s]\n"
          ]
        },
        {
          "output_type": "stream",
          "name": "stdout",
          "text": [
            "Epoch: 10 | Epoch Train Time: 0m 20s\n",
            "\tTrain Loss: 1.363 | Train Acc: 51.19%\n",
            "\t Val. Loss: 1.424 |  Val. Acc: 47.27%\n"
          ]
        },
        {
          "output_type": "stream",
          "name": "stderr",
          "text": [
            "Training: 100%|██████████| 313/313 [00:20<00:00, 15.57it/s]\n",
            "Validation: 100%|██████████| 94/94 [00:04<00:00, 20.29it/s]\n"
          ]
        },
        {
          "output_type": "stream",
          "name": "stdout",
          "text": [
            "Epoch: 11 | Epoch Train Time: 0m 20s\n",
            "\tTrain Loss: 1.334 | Train Acc: 52.01%\n",
            "\t Val. Loss: 1.400 |  Val. Acc: 49.50%\n"
          ]
        },
        {
          "output_type": "stream",
          "name": "stderr",
          "text": [
            "Training: 100%|██████████| 313/313 [00:20<00:00, 15.49it/s]\n",
            "Validation: 100%|██████████| 94/94 [00:04<00:00, 20.22it/s]\n"
          ]
        },
        {
          "output_type": "stream",
          "name": "stdout",
          "text": [
            "Epoch: 12 | Epoch Train Time: 0m 20s\n",
            "\tTrain Loss: 1.307 | Train Acc: 53.83%\n",
            "\t Val. Loss: 1.253 |  Val. Acc: 54.40%\n"
          ]
        },
        {
          "output_type": "stream",
          "name": "stderr",
          "text": [
            "Training: 100%|██████████| 313/313 [00:20<00:00, 15.54it/s]\n",
            "Validation: 100%|██████████| 94/94 [00:04<00:00, 20.05it/s]\n"
          ]
        },
        {
          "output_type": "stream",
          "name": "stdout",
          "text": [
            "Epoch: 13 | Epoch Train Time: 0m 20s\n",
            "\tTrain Loss: 1.281 | Train Acc: 54.03%\n",
            "\t Val. Loss: 1.273 |  Val. Acc: 54.10%\n"
          ]
        },
        {
          "output_type": "stream",
          "name": "stderr",
          "text": [
            "Training: 100%|██████████| 313/313 [00:20<00:00, 15.57it/s]\n",
            "Validation: 100%|██████████| 94/94 [00:04<00:00, 19.89it/s]\n"
          ]
        },
        {
          "output_type": "stream",
          "name": "stdout",
          "text": [
            "Epoch: 14 | Epoch Train Time: 0m 20s\n",
            "\tTrain Loss: 1.251 | Train Acc: 55.33%\n",
            "\t Val. Loss: 1.304 |  Val. Acc: 52.60%\n"
          ]
        },
        {
          "output_type": "stream",
          "name": "stderr",
          "text": [
            "Training: 100%|██████████| 313/313 [00:20<00:00, 15.42it/s]\n",
            "Validation: 100%|██████████| 94/94 [00:04<00:00, 20.57it/s]\n"
          ]
        },
        {
          "output_type": "stream",
          "name": "stdout",
          "text": [
            "Epoch: 15 | Epoch Train Time: 0m 20s\n",
            "\tTrain Loss: 1.226 | Train Acc: 56.36%\n",
            "\t Val. Loss: 1.175 |  Val. Acc: 57.67%\n"
          ]
        },
        {
          "output_type": "stream",
          "name": "stderr",
          "text": [
            "Training: 100%|██████████| 313/313 [00:20<00:00, 15.48it/s]\n",
            "Validation: 100%|██████████| 94/94 [00:04<00:00, 20.56it/s]\n"
          ]
        },
        {
          "output_type": "stream",
          "name": "stdout",
          "text": [
            "Epoch: 16 | Epoch Train Time: 0m 20s\n",
            "\tTrain Loss: 1.204 | Train Acc: 57.56%\n",
            "\t Val. Loss: 1.256 |  Val. Acc: 55.20%\n"
          ]
        },
        {
          "output_type": "stream",
          "name": "stderr",
          "text": [
            "Training: 100%|██████████| 313/313 [00:20<00:00, 15.54it/s]\n",
            "Validation: 100%|██████████| 94/94 [00:04<00:00, 20.43it/s]\n"
          ]
        },
        {
          "output_type": "stream",
          "name": "stdout",
          "text": [
            "Epoch: 17 | Epoch Train Time: 0m 20s\n",
            "\tTrain Loss: 1.169 | Train Acc: 58.26%\n",
            "\t Val. Loss: 1.175 |  Val. Acc: 58.27%\n"
          ]
        },
        {
          "output_type": "stream",
          "name": "stderr",
          "text": [
            "Training: 100%|██████████| 313/313 [00:20<00:00, 15.45it/s]\n",
            "Validation: 100%|██████████| 94/94 [00:04<00:00, 20.54it/s]\n"
          ]
        },
        {
          "output_type": "stream",
          "name": "stdout",
          "text": [
            "Epoch: 18 | Epoch Train Time: 0m 20s\n",
            "\tTrain Loss: 1.146 | Train Acc: 59.63%\n",
            "\t Val. Loss: 1.123 |  Val. Acc: 60.17%\n"
          ]
        },
        {
          "output_type": "stream",
          "name": "stderr",
          "text": [
            "Training: 100%|██████████| 313/313 [00:20<00:00, 15.51it/s]\n",
            "Validation: 100%|██████████| 94/94 [00:04<00:00, 20.10it/s]\n"
          ]
        },
        {
          "output_type": "stream",
          "name": "stdout",
          "text": [
            "Epoch: 19 | Epoch Train Time: 0m 20s\n",
            "\tTrain Loss: 1.126 | Train Acc: 60.55%\n",
            "\t Val. Loss: 1.189 |  Val. Acc: 57.10%\n"
          ]
        },
        {
          "output_type": "stream",
          "name": "stderr",
          "text": [
            "Training: 100%|██████████| 313/313 [00:20<00:00, 15.58it/s]\n",
            "Validation: 100%|██████████| 94/94 [00:04<00:00, 20.24it/s]\n"
          ]
        },
        {
          "output_type": "stream",
          "name": "stdout",
          "text": [
            "Epoch: 20 | Epoch Train Time: 0m 20s\n",
            "\tTrain Loss: 1.105 | Train Acc: 60.38%\n",
            "\t Val. Loss: 1.229 |  Val. Acc: 54.80%\n"
          ]
        },
        {
          "output_type": "stream",
          "name": "stderr",
          "text": [
            "Training: 100%|██████████| 313/313 [00:20<00:00, 15.63it/s]\n",
            "Validation: 100%|██████████| 94/94 [00:04<00:00, 20.07it/s]\n"
          ]
        },
        {
          "output_type": "stream",
          "name": "stdout",
          "text": [
            "Epoch: 21 | Epoch Train Time: 0m 20s\n",
            "\tTrain Loss: 1.080 | Train Acc: 61.67%\n",
            "\t Val. Loss: 1.178 |  Val. Acc: 58.20%\n"
          ]
        },
        {
          "output_type": "stream",
          "name": "stderr",
          "text": [
            "Training: 100%|██████████| 313/313 [00:20<00:00, 15.45it/s]\n",
            "Validation: 100%|██████████| 94/94 [00:04<00:00, 20.17it/s]\n"
          ]
        },
        {
          "output_type": "stream",
          "name": "stdout",
          "text": [
            "Epoch: 22 | Epoch Train Time: 0m 20s\n",
            "\tTrain Loss: 1.080 | Train Acc: 62.04%\n",
            "\t Val. Loss: 1.314 |  Val. Acc: 54.93%\n"
          ]
        },
        {
          "output_type": "stream",
          "name": "stderr",
          "text": [
            "Training: 100%|██████████| 313/313 [00:20<00:00, 15.52it/s]\n",
            "Validation: 100%|██████████| 94/94 [00:04<00:00, 20.70it/s]\n"
          ]
        },
        {
          "output_type": "stream",
          "name": "stdout",
          "text": [
            "Epoch: 23 | Epoch Train Time: 0m 20s\n",
            "\tTrain Loss: 1.051 | Train Acc: 62.74%\n",
            "\t Val. Loss: 1.396 |  Val. Acc: 53.47%\n"
          ]
        },
        {
          "output_type": "stream",
          "name": "stderr",
          "text": [
            "Training: 100%|██████████| 313/313 [00:20<00:00, 15.43it/s]\n",
            "Validation: 100%|██████████| 94/94 [00:04<00:00, 20.47it/s]\n"
          ]
        },
        {
          "output_type": "stream",
          "name": "stdout",
          "text": [
            "Epoch: 24 | Epoch Train Time: 0m 20s\n",
            "\tTrain Loss: 1.030 | Train Acc: 63.51%\n",
            "\t Val. Loss: 1.042 |  Val. Acc: 62.63%\n"
          ]
        },
        {
          "output_type": "stream",
          "name": "stderr",
          "text": [
            "Training: 100%|██████████| 313/313 [00:20<00:00, 15.52it/s]\n",
            "Validation: 100%|██████████| 94/94 [00:04<00:00, 20.57it/s]\n"
          ]
        },
        {
          "output_type": "stream",
          "name": "stdout",
          "text": [
            "Epoch: 25 | Epoch Train Time: 0m 20s\n",
            "\tTrain Loss: 1.010 | Train Acc: 64.58%\n",
            "\t Val. Loss: 0.999 |  Val. Acc: 64.00%\n"
          ]
        },
        {
          "output_type": "stream",
          "name": "stderr",
          "text": [
            "Training: 100%|██████████| 313/313 [00:20<00:00, 15.61it/s]\n",
            "Validation: 100%|██████████| 94/94 [00:04<00:00, 20.52it/s]\n"
          ]
        },
        {
          "output_type": "stream",
          "name": "stdout",
          "text": [
            "Epoch: 26 | Epoch Train Time: 0m 20s\n",
            "\tTrain Loss: 0.991 | Train Acc: 64.50%\n",
            "\t Val. Loss: 1.084 |  Val. Acc: 61.20%\n"
          ]
        },
        {
          "output_type": "stream",
          "name": "stderr",
          "text": [
            "Training: 100%|██████████| 313/313 [00:20<00:00, 15.45it/s]\n",
            "Validation: 100%|██████████| 94/94 [00:04<00:00, 20.05it/s]\n"
          ]
        },
        {
          "output_type": "stream",
          "name": "stdout",
          "text": [
            "Epoch: 27 | Epoch Train Time: 0m 20s\n",
            "\tTrain Loss: 0.969 | Train Acc: 65.70%\n",
            "\t Val. Loss: 1.325 |  Val. Acc: 55.63%\n"
          ]
        },
        {
          "output_type": "stream",
          "name": "stderr",
          "text": [
            "Training: 100%|██████████| 313/313 [00:19<00:00, 15.69it/s]\n",
            "Validation: 100%|██████████| 94/94 [00:04<00:00, 19.94it/s]\n"
          ]
        },
        {
          "output_type": "stream",
          "name": "stdout",
          "text": [
            "Epoch: 28 | Epoch Train Time: 0m 19s\n",
            "\tTrain Loss: 0.955 | Train Acc: 66.31%\n",
            "\t Val. Loss: 1.046 |  Val. Acc: 63.60%\n"
          ]
        },
        {
          "output_type": "stream",
          "name": "stderr",
          "text": [
            "Training: 100%|██████████| 313/313 [00:20<00:00, 15.63it/s]\n",
            "Validation: 100%|██████████| 94/94 [00:04<00:00, 20.49it/s]\n"
          ]
        },
        {
          "output_type": "stream",
          "name": "stdout",
          "text": [
            "Epoch: 29 | Epoch Train Time: 0m 20s\n",
            "\tTrain Loss: 0.925 | Train Acc: 67.06%\n",
            "\t Val. Loss: 0.983 |  Val. Acc: 65.30%\n"
          ]
        },
        {
          "output_type": "stream",
          "name": "stderr",
          "text": [
            "Training: 100%|██████████| 313/313 [00:20<00:00, 15.58it/s]\n",
            "Validation: 100%|██████████| 94/94 [00:04<00:00, 20.28it/s]\n"
          ]
        },
        {
          "output_type": "stream",
          "name": "stdout",
          "text": [
            "Epoch: 30 | Epoch Train Time: 0m 20s\n",
            "\tTrain Loss: 0.928 | Train Acc: 67.12%\n",
            "\t Val. Loss: 0.970 |  Val. Acc: 65.97%\n"
          ]
        },
        {
          "output_type": "stream",
          "name": "stderr",
          "text": [
            "Training: 100%|██████████| 313/313 [00:20<00:00, 15.56it/s]\n",
            "Validation: 100%|██████████| 94/94 [00:04<00:00, 20.68it/s]\n"
          ]
        },
        {
          "output_type": "stream",
          "name": "stdout",
          "text": [
            "Epoch: 31 | Epoch Train Time: 0m 20s\n",
            "\tTrain Loss: 0.908 | Train Acc: 67.77%\n",
            "\t Val. Loss: 0.972 |  Val. Acc: 65.77%\n"
          ]
        },
        {
          "output_type": "stream",
          "name": "stderr",
          "text": [
            "Training: 100%|██████████| 313/313 [00:20<00:00, 15.49it/s]\n",
            "Validation: 100%|██████████| 94/94 [00:04<00:00, 20.60it/s]\n"
          ]
        },
        {
          "output_type": "stream",
          "name": "stdout",
          "text": [
            "Epoch: 32 | Epoch Train Time: 0m 20s\n",
            "\tTrain Loss: 0.887 | Train Acc: 68.71%\n",
            "\t Val. Loss: 0.989 |  Val. Acc: 65.23%\n"
          ]
        },
        {
          "output_type": "stream",
          "name": "stderr",
          "text": [
            "Training: 100%|██████████| 313/313 [00:20<00:00, 15.58it/s]\n",
            "Validation: 100%|██████████| 94/94 [00:04<00:00, 20.71it/s]\n"
          ]
        },
        {
          "output_type": "stream",
          "name": "stdout",
          "text": [
            "Epoch: 33 | Epoch Train Time: 0m 20s\n",
            "\tTrain Loss: 0.863 | Train Acc: 69.81%\n",
            "\t Val. Loss: 1.139 |  Val. Acc: 61.73%\n"
          ]
        },
        {
          "output_type": "stream",
          "name": "stderr",
          "text": [
            "Training: 100%|██████████| 313/313 [00:20<00:00, 15.41it/s]\n",
            "Validation: 100%|██████████| 94/94 [00:04<00:00, 20.48it/s]\n"
          ]
        },
        {
          "output_type": "stream",
          "name": "stdout",
          "text": [
            "Epoch: 34 | Epoch Train Time: 0m 20s\n",
            "\tTrain Loss: 0.845 | Train Acc: 69.98%\n",
            "\t Val. Loss: 1.207 |  Val. Acc: 59.87%\n"
          ]
        },
        {
          "output_type": "stream",
          "name": "stderr",
          "text": [
            "Training: 100%|██████████| 313/313 [00:20<00:00, 15.44it/s]\n",
            "Validation: 100%|██████████| 94/94 [00:04<00:00, 19.65it/s]\n"
          ]
        },
        {
          "output_type": "stream",
          "name": "stdout",
          "text": [
            "Epoch: 35 | Epoch Train Time: 0m 20s\n",
            "\tTrain Loss: 0.852 | Train Acc: 69.37%\n",
            "\t Val. Loss: 1.099 |  Val. Acc: 62.33%\n"
          ]
        },
        {
          "output_type": "stream",
          "name": "stderr",
          "text": [
            "Training: 100%|██████████| 313/313 [00:20<00:00, 15.54it/s]\n",
            "Validation: 100%|██████████| 94/94 [00:04<00:00, 20.12it/s]\n"
          ]
        },
        {
          "output_type": "stream",
          "name": "stdout",
          "text": [
            "Epoch: 36 | Epoch Train Time: 0m 20s\n",
            "\tTrain Loss: 0.838 | Train Acc: 70.57%\n",
            "\t Val. Loss: 0.932 |  Val. Acc: 67.87%\n"
          ]
        },
        {
          "output_type": "stream",
          "name": "stderr",
          "text": [
            "Training: 100%|██████████| 313/313 [00:20<00:00, 15.64it/s]\n",
            "Validation: 100%|██████████| 94/94 [00:04<00:00, 20.11it/s]\n"
          ]
        },
        {
          "output_type": "stream",
          "name": "stdout",
          "text": [
            "Epoch: 37 | Epoch Train Time: 0m 20s\n",
            "\tTrain Loss: 0.809 | Train Acc: 71.46%\n",
            "\t Val. Loss: 0.918 |  Val. Acc: 68.07%\n"
          ]
        },
        {
          "output_type": "stream",
          "name": "stderr",
          "text": [
            "Training: 100%|██████████| 313/313 [00:20<00:00, 15.56it/s]\n",
            "Validation: 100%|██████████| 94/94 [00:04<00:00, 20.59it/s]\n"
          ]
        },
        {
          "output_type": "stream",
          "name": "stdout",
          "text": [
            "Epoch: 38 | Epoch Train Time: 0m 20s\n",
            "\tTrain Loss: 0.805 | Train Acc: 71.87%\n",
            "\t Val. Loss: 1.086 |  Val. Acc: 63.03%\n"
          ]
        },
        {
          "output_type": "stream",
          "name": "stderr",
          "text": [
            "Training: 100%|██████████| 313/313 [00:20<00:00, 15.50it/s]\n",
            "Validation: 100%|██████████| 94/94 [00:04<00:00, 20.57it/s]\n"
          ]
        },
        {
          "output_type": "stream",
          "name": "stdout",
          "text": [
            "Epoch: 39 | Epoch Train Time: 0m 20s\n",
            "\tTrain Loss: 0.788 | Train Acc: 72.20%\n",
            "\t Val. Loss: 0.957 |  Val. Acc: 67.67%\n"
          ]
        },
        {
          "output_type": "stream",
          "name": "stderr",
          "text": [
            "Training: 100%|██████████| 313/313 [00:20<00:00, 15.48it/s]\n",
            "Validation: 100%|██████████| 94/94 [00:04<00:00, 20.61it/s]\n"
          ]
        },
        {
          "output_type": "stream",
          "name": "stdout",
          "text": [
            "Epoch: 40 | Epoch Train Time: 0m 20s\n",
            "\tTrain Loss: 0.774 | Train Acc: 72.61%\n",
            "\t Val. Loss: 0.862 |  Val. Acc: 70.00%\n"
          ]
        },
        {
          "output_type": "stream",
          "name": "stderr",
          "text": [
            "Training: 100%|██████████| 313/313 [00:20<00:00, 15.55it/s]\n",
            "Validation: 100%|██████████| 94/94 [00:04<00:00, 20.27it/s]\n"
          ]
        },
        {
          "output_type": "stream",
          "name": "stdout",
          "text": [
            "Epoch: 41 | Epoch Train Time: 0m 20s\n",
            "\tTrain Loss: 0.767 | Train Acc: 72.38%\n",
            "\t Val. Loss: 0.926 |  Val. Acc: 67.37%\n"
          ]
        },
        {
          "output_type": "stream",
          "name": "stderr",
          "text": [
            "Training: 100%|██████████| 313/313 [00:20<00:00, 15.52it/s]\n",
            "Validation: 100%|██████████| 94/94 [00:04<00:00, 20.02it/s]\n"
          ]
        },
        {
          "output_type": "stream",
          "name": "stdout",
          "text": [
            "Epoch: 42 | Epoch Train Time: 0m 20s\n",
            "\tTrain Loss: 0.748 | Train Acc: 73.08%\n",
            "\t Val. Loss: 0.868 |  Val. Acc: 69.83%\n"
          ]
        },
        {
          "output_type": "stream",
          "name": "stderr",
          "text": [
            "Training: 100%|██████████| 313/313 [00:20<00:00, 15.51it/s]\n",
            "Validation: 100%|██████████| 94/94 [00:04<00:00, 20.01it/s]\n"
          ]
        },
        {
          "output_type": "stream",
          "name": "stdout",
          "text": [
            "Epoch: 43 | Epoch Train Time: 0m 20s\n",
            "\tTrain Loss: 0.735 | Train Acc: 74.34%\n",
            "\t Val. Loss: 0.865 |  Val. Acc: 69.67%\n"
          ]
        },
        {
          "output_type": "stream",
          "name": "stderr",
          "text": [
            "Training: 100%|██████████| 313/313 [00:20<00:00, 15.46it/s]\n",
            "Validation: 100%|██████████| 94/94 [00:04<00:00, 20.56it/s]\n"
          ]
        },
        {
          "output_type": "stream",
          "name": "stdout",
          "text": [
            "Epoch: 44 | Epoch Train Time: 0m 20s\n",
            "\tTrain Loss: 0.712 | Train Acc: 75.01%\n",
            "\t Val. Loss: 0.815 |  Val. Acc: 72.20%\n"
          ]
        },
        {
          "output_type": "stream",
          "name": "stderr",
          "text": [
            "Training: 100%|██████████| 313/313 [00:20<00:00, 15.51it/s]\n",
            "Validation: 100%|██████████| 94/94 [00:04<00:00, 20.71it/s]\n"
          ]
        },
        {
          "output_type": "stream",
          "name": "stdout",
          "text": [
            "Epoch: 45 | Epoch Train Time: 0m 20s\n",
            "\tTrain Loss: 0.705 | Train Acc: 74.99%\n",
            "\t Val. Loss: 1.035 |  Val. Acc: 66.20%\n"
          ]
        },
        {
          "output_type": "stream",
          "name": "stderr",
          "text": [
            "Training: 100%|██████████| 313/313 [00:20<00:00, 15.53it/s]\n",
            "Validation: 100%|██████████| 94/94 [00:04<00:00, 20.67it/s]\n"
          ]
        },
        {
          "output_type": "stream",
          "name": "stdout",
          "text": [
            "Epoch: 46 | Epoch Train Time: 0m 20s\n",
            "\tTrain Loss: 0.706 | Train Acc: 75.29%\n",
            "\t Val. Loss: 0.892 |  Val. Acc: 69.40%\n"
          ]
        },
        {
          "output_type": "stream",
          "name": "stderr",
          "text": [
            "Training: 100%|██████████| 313/313 [00:20<00:00, 15.48it/s]\n",
            "Validation: 100%|██████████| 94/94 [00:04<00:00, 20.32it/s]\n"
          ]
        },
        {
          "output_type": "stream",
          "name": "stdout",
          "text": [
            "Epoch: 47 | Epoch Train Time: 0m 20s\n",
            "\tTrain Loss: 0.673 | Train Acc: 76.47%\n",
            "\t Val. Loss: 0.850 |  Val. Acc: 71.90%\n"
          ]
        },
        {
          "output_type": "stream",
          "name": "stderr",
          "text": [
            "Training: 100%|██████████| 313/313 [00:20<00:00, 15.48it/s]\n",
            "Validation: 100%|██████████| 94/94 [00:04<00:00, 20.11it/s]\n"
          ]
        },
        {
          "output_type": "stream",
          "name": "stdout",
          "text": [
            "Epoch: 48 | Epoch Train Time: 0m 20s\n",
            "\tTrain Loss: 0.671 | Train Acc: 75.97%\n",
            "\t Val. Loss: 0.856 |  Val. Acc: 71.47%\n"
          ]
        },
        {
          "output_type": "stream",
          "name": "stderr",
          "text": [
            "Training: 100%|██████████| 313/313 [00:20<00:00, 15.53it/s]\n",
            "Validation: 100%|██████████| 94/94 [00:04<00:00, 19.99it/s]\n"
          ]
        },
        {
          "output_type": "stream",
          "name": "stdout",
          "text": [
            "Epoch: 49 | Epoch Train Time: 0m 20s\n",
            "\tTrain Loss: 0.662 | Train Acc: 76.76%\n",
            "\t Val. Loss: 0.840 |  Val. Acc: 71.60%\n"
          ]
        },
        {
          "output_type": "stream",
          "name": "stderr",
          "text": [
            "Training: 100%|██████████| 313/313 [00:20<00:00, 15.54it/s]\n",
            "Validation: 100%|██████████| 94/94 [00:04<00:00, 19.95it/s]\n"
          ]
        },
        {
          "output_type": "stream",
          "name": "stdout",
          "text": [
            "Epoch: 50 | Epoch Train Time: 0m 20s\n",
            "\tTrain Loss: 0.656 | Train Acc: 76.95%\n",
            "\t Val. Loss: 0.845 |  Val. Acc: 71.17%\n"
          ]
        },
        {
          "output_type": "stream",
          "name": "stderr",
          "text": [
            "Training: 100%|██████████| 313/313 [00:20<00:00, 15.45it/s]\n",
            "Validation: 100%|██████████| 94/94 [00:04<00:00, 19.88it/s]\n"
          ]
        },
        {
          "output_type": "stream",
          "name": "stdout",
          "text": [
            "Epoch: 51 | Epoch Train Time: 0m 20s\n",
            "\tTrain Loss: 0.647 | Train Acc: 77.86%\n",
            "\t Val. Loss: 0.968 |  Val. Acc: 67.93%\n"
          ]
        },
        {
          "output_type": "stream",
          "name": "stderr",
          "text": [
            "Training: 100%|██████████| 313/313 [00:20<00:00, 15.44it/s]\n",
            "Validation: 100%|██████████| 94/94 [00:04<00:00, 20.61it/s]\n"
          ]
        },
        {
          "output_type": "stream",
          "name": "stdout",
          "text": [
            "Epoch: 52 | Epoch Train Time: 0m 20s\n",
            "\tTrain Loss: 0.614 | Train Acc: 78.49%\n",
            "\t Val. Loss: 0.779 |  Val. Acc: 73.40%\n"
          ]
        },
        {
          "output_type": "stream",
          "name": "stderr",
          "text": [
            "Training: 100%|██████████| 313/313 [00:20<00:00, 15.51it/s]\n",
            "Validation: 100%|██████████| 94/94 [00:04<00:00, 20.68it/s]\n"
          ]
        },
        {
          "output_type": "stream",
          "name": "stdout",
          "text": [
            "Epoch: 53 | Epoch Train Time: 0m 20s\n",
            "\tTrain Loss: 0.620 | Train Acc: 78.14%\n",
            "\t Val. Loss: 0.903 |  Val. Acc: 69.77%\n"
          ]
        },
        {
          "output_type": "stream",
          "name": "stderr",
          "text": [
            "Training: 100%|██████████| 313/313 [00:20<00:00, 15.53it/s]\n",
            "Validation: 100%|██████████| 94/94 [00:04<00:00, 20.78it/s]\n"
          ]
        },
        {
          "output_type": "stream",
          "name": "stdout",
          "text": [
            "Epoch: 54 | Epoch Train Time: 0m 20s\n",
            "\tTrain Loss: 0.590 | Train Acc: 79.54%\n",
            "\t Val. Loss: 0.861 |  Val. Acc: 70.37%\n"
          ]
        },
        {
          "output_type": "stream",
          "name": "stderr",
          "text": [
            "Training: 100%|██████████| 313/313 [00:20<00:00, 15.43it/s]\n",
            "Validation: 100%|██████████| 94/94 [00:04<00:00, 20.45it/s]\n"
          ]
        },
        {
          "output_type": "stream",
          "name": "stdout",
          "text": [
            "Epoch: 55 | Epoch Train Time: 0m 20s\n",
            "\tTrain Loss: 0.590 | Train Acc: 79.49%\n",
            "\t Val. Loss: 1.041 |  Val. Acc: 66.83%\n"
          ]
        },
        {
          "output_type": "stream",
          "name": "stderr",
          "text": [
            "Training: 100%|██████████| 313/313 [00:20<00:00, 15.43it/s]\n",
            "Validation: 100%|██████████| 94/94 [00:04<00:00, 19.80it/s]\n"
          ]
        },
        {
          "output_type": "stream",
          "name": "stdout",
          "text": [
            "Epoch: 56 | Epoch Train Time: 0m 20s\n",
            "\tTrain Loss: 0.576 | Train Acc: 79.66%\n",
            "\t Val. Loss: 0.781 |  Val. Acc: 73.73%\n"
          ]
        },
        {
          "output_type": "stream",
          "name": "stderr",
          "text": [
            "Training: 100%|██████████| 313/313 [00:20<00:00, 15.56it/s]\n",
            "Validation: 100%|██████████| 94/94 [00:04<00:00, 19.98it/s]\n"
          ]
        },
        {
          "output_type": "stream",
          "name": "stdout",
          "text": [
            "Epoch: 57 | Epoch Train Time: 0m 20s\n",
            "\tTrain Loss: 0.568 | Train Acc: 80.12%\n",
            "\t Val. Loss: 0.847 |  Val. Acc: 72.90%\n"
          ]
        },
        {
          "output_type": "stream",
          "name": "stderr",
          "text": [
            "Training: 100%|██████████| 313/313 [00:20<00:00, 15.63it/s]\n",
            "Validation: 100%|██████████| 94/94 [00:04<00:00, 20.21it/s]\n"
          ]
        },
        {
          "output_type": "stream",
          "name": "stdout",
          "text": [
            "Epoch: 58 | Epoch Train Time: 0m 20s\n",
            "\tTrain Loss: 0.579 | Train Acc: 79.86%\n",
            "\t Val. Loss: 0.895 |  Val. Acc: 70.30%\n"
          ]
        },
        {
          "output_type": "stream",
          "name": "stderr",
          "text": [
            "Training: 100%|██████████| 313/313 [00:20<00:00, 15.55it/s]\n",
            "Validation: 100%|██████████| 94/94 [00:04<00:00, 20.69it/s]\n"
          ]
        },
        {
          "output_type": "stream",
          "name": "stdout",
          "text": [
            "Epoch: 59 | Epoch Train Time: 0m 20s\n",
            "\tTrain Loss: 0.551 | Train Acc: 80.92%\n",
            "\t Val. Loss: 0.740 |  Val. Acc: 74.93%\n"
          ]
        },
        {
          "output_type": "stream",
          "name": "stderr",
          "text": [
            "Training: 100%|██████████| 313/313 [00:20<00:00, 15.47it/s]\n",
            "Validation: 100%|██████████| 94/94 [00:04<00:00, 20.70it/s]\n"
          ]
        },
        {
          "output_type": "stream",
          "name": "stdout",
          "text": [
            "Epoch: 60 | Epoch Train Time: 0m 20s\n",
            "\tTrain Loss: 0.548 | Train Acc: 81.03%\n",
            "\t Val. Loss: 0.951 |  Val. Acc: 69.90%\n"
          ]
        },
        {
          "output_type": "stream",
          "name": "stderr",
          "text": [
            "Training: 100%|██████████| 313/313 [00:20<00:00, 15.59it/s]\n",
            "Validation: 100%|██████████| 94/94 [00:04<00:00, 20.60it/s]\n"
          ]
        },
        {
          "output_type": "stream",
          "name": "stdout",
          "text": [
            "Epoch: 61 | Epoch Train Time: 0m 20s\n",
            "\tTrain Loss: 0.524 | Train Acc: 81.81%\n",
            "\t Val. Loss: 0.992 |  Val. Acc: 68.17%\n"
          ]
        },
        {
          "output_type": "stream",
          "name": "stderr",
          "text": [
            "Training: 100%|██████████| 313/313 [00:20<00:00, 15.48it/s]\n",
            "Validation: 100%|██████████| 94/94 [00:04<00:00, 20.17it/s]\n"
          ]
        },
        {
          "output_type": "stream",
          "name": "stdout",
          "text": [
            "Epoch: 62 | Epoch Train Time: 0m 20s\n",
            "\tTrain Loss: 0.529 | Train Acc: 81.65%\n",
            "\t Val. Loss: 0.797 |  Val. Acc: 73.57%\n"
          ]
        },
        {
          "output_type": "stream",
          "name": "stderr",
          "text": [
            "Training: 100%|██████████| 313/313 [00:20<00:00, 15.55it/s]\n",
            "Validation: 100%|██████████| 94/94 [00:04<00:00, 19.61it/s]\n"
          ]
        },
        {
          "output_type": "stream",
          "name": "stdout",
          "text": [
            "Epoch: 63 | Epoch Train Time: 0m 20s\n",
            "\tTrain Loss: 0.514 | Train Acc: 82.08%\n",
            "\t Val. Loss: 0.762 |  Val. Acc: 74.70%\n"
          ]
        },
        {
          "output_type": "stream",
          "name": "stderr",
          "text": [
            "Training: 100%|██████████| 313/313 [00:20<00:00, 15.62it/s]\n",
            "Validation: 100%|██████████| 94/94 [00:04<00:00, 20.06it/s]\n"
          ]
        },
        {
          "output_type": "stream",
          "name": "stdout",
          "text": [
            "Epoch: 64 | Epoch Train Time: 0m 20s\n",
            "\tTrain Loss: 0.497 | Train Acc: 82.74%\n",
            "\t Val. Loss: 0.998 |  Val. Acc: 69.03%\n"
          ]
        },
        {
          "output_type": "stream",
          "name": "stderr",
          "text": [
            "Training: 100%|██████████| 313/313 [00:20<00:00, 15.55it/s]\n",
            "Validation: 100%|██████████| 94/94 [00:04<00:00, 20.16it/s]\n"
          ]
        },
        {
          "output_type": "stream",
          "name": "stdout",
          "text": [
            "Epoch: 65 | Epoch Train Time: 0m 20s\n",
            "\tTrain Loss: 0.485 | Train Acc: 82.82%\n",
            "\t Val. Loss: 0.729 |  Val. Acc: 76.33%\n"
          ]
        },
        {
          "output_type": "stream",
          "name": "stderr",
          "text": [
            "Training: 100%|██████████| 313/313 [00:20<00:00, 15.48it/s]\n",
            "Validation: 100%|██████████| 94/94 [00:04<00:00, 20.67it/s]\n"
          ]
        },
        {
          "output_type": "stream",
          "name": "stdout",
          "text": [
            "Epoch: 66 | Epoch Train Time: 0m 20s\n",
            "\tTrain Loss: 0.501 | Train Acc: 82.33%\n",
            "\t Val. Loss: 1.075 |  Val. Acc: 66.77%\n"
          ]
        },
        {
          "output_type": "stream",
          "name": "stderr",
          "text": [
            "Training: 100%|██████████| 313/313 [00:20<00:00, 15.51it/s]\n",
            "Validation: 100%|██████████| 94/94 [00:04<00:00, 20.48it/s]\n"
          ]
        },
        {
          "output_type": "stream",
          "name": "stdout",
          "text": [
            "Epoch: 67 | Epoch Train Time: 0m 20s\n",
            "\tTrain Loss: 0.478 | Train Acc: 83.33%\n",
            "\t Val. Loss: 0.786 |  Val. Acc: 74.83%\n"
          ]
        },
        {
          "output_type": "stream",
          "name": "stderr",
          "text": [
            "Training: 100%|██████████| 313/313 [00:20<00:00, 15.43it/s]\n",
            "Validation: 100%|██████████| 94/94 [00:04<00:00, 20.45it/s]\n"
          ]
        },
        {
          "output_type": "stream",
          "name": "stdout",
          "text": [
            "Epoch: 68 | Epoch Train Time: 0m 20s\n",
            "\tTrain Loss: 0.456 | Train Acc: 84.00%\n",
            "\t Val. Loss: 0.759 |  Val. Acc: 74.47%\n"
          ]
        },
        {
          "output_type": "stream",
          "name": "stderr",
          "text": [
            "Training: 100%|██████████| 313/313 [00:20<00:00, 15.50it/s]\n",
            "Validation: 100%|██████████| 94/94 [00:04<00:00, 20.53it/s]\n"
          ]
        },
        {
          "output_type": "stream",
          "name": "stdout",
          "text": [
            "Epoch: 69 | Epoch Train Time: 0m 20s\n",
            "\tTrain Loss: 0.464 | Train Acc: 84.02%\n",
            "\t Val. Loss: 0.785 |  Val. Acc: 74.73%\n"
          ]
        },
        {
          "output_type": "stream",
          "name": "stderr",
          "text": [
            "Training: 100%|██████████| 313/313 [00:20<00:00, 15.45it/s]\n",
            "Validation: 100%|██████████| 94/94 [00:04<00:00, 20.05it/s]\n"
          ]
        },
        {
          "output_type": "stream",
          "name": "stdout",
          "text": [
            "Epoch: 70 | Epoch Train Time: 0m 20s\n",
            "\tTrain Loss: 0.458 | Train Acc: 84.54%\n",
            "\t Val. Loss: 0.736 |  Val. Acc: 76.57%\n"
          ]
        },
        {
          "output_type": "stream",
          "name": "stderr",
          "text": [
            "Training: 100%|██████████| 313/313 [00:20<00:00, 15.56it/s]\n",
            "Validation: 100%|██████████| 94/94 [00:04<00:00, 20.10it/s]\n"
          ]
        },
        {
          "output_type": "stream",
          "name": "stdout",
          "text": [
            "Epoch: 71 | Epoch Train Time: 0m 20s\n",
            "\tTrain Loss: 0.443 | Train Acc: 84.59%\n",
            "\t Val. Loss: 0.724 |  Val. Acc: 75.30%\n"
          ]
        },
        {
          "output_type": "stream",
          "name": "stderr",
          "text": [
            "Training: 100%|██████████| 313/313 [00:20<00:00, 15.59it/s]\n",
            "Validation: 100%|██████████| 94/94 [00:04<00:00, 19.96it/s]\n"
          ]
        },
        {
          "output_type": "stream",
          "name": "stdout",
          "text": [
            "Epoch: 72 | Epoch Train Time: 0m 20s\n",
            "\tTrain Loss: 0.442 | Train Acc: 84.67%\n",
            "\t Val. Loss: 0.733 |  Val. Acc: 76.57%\n"
          ]
        },
        {
          "output_type": "stream",
          "name": "stderr",
          "text": [
            "Training: 100%|██████████| 313/313 [00:20<00:00, 15.50it/s]\n",
            "Validation: 100%|██████████| 94/94 [00:04<00:00, 20.55it/s]\n"
          ]
        },
        {
          "output_type": "stream",
          "name": "stdout",
          "text": [
            "Epoch: 73 | Epoch Train Time: 0m 20s\n",
            "\tTrain Loss: 0.425 | Train Acc: 85.42%\n",
            "\t Val. Loss: 0.787 |  Val. Acc: 75.53%\n"
          ]
        },
        {
          "output_type": "stream",
          "name": "stderr",
          "text": [
            "Training: 100%|██████████| 313/313 [00:20<00:00, 15.52it/s]\n",
            "Validation: 100%|██████████| 94/94 [00:04<00:00, 20.47it/s]\n"
          ]
        },
        {
          "output_type": "stream",
          "name": "stdout",
          "text": [
            "Epoch: 74 | Epoch Train Time: 0m 20s\n",
            "\tTrain Loss: 0.427 | Train Acc: 85.20%\n",
            "\t Val. Loss: 0.796 |  Val. Acc: 74.63%\n"
          ]
        },
        {
          "output_type": "stream",
          "name": "stderr",
          "text": [
            "Training: 100%|██████████| 313/313 [00:20<00:00, 15.47it/s]\n",
            "Validation: 100%|██████████| 94/94 [00:04<00:00, 20.59it/s]\n"
          ]
        },
        {
          "output_type": "stream",
          "name": "stdout",
          "text": [
            "Epoch: 75 | Epoch Train Time: 0m 20s\n",
            "\tTrain Loss: 0.416 | Train Acc: 85.10%\n",
            "\t Val. Loss: 0.839 |  Val. Acc: 73.63%\n"
          ]
        },
        {
          "output_type": "stream",
          "name": "stderr",
          "text": [
            "Training: 100%|██████████| 313/313 [00:20<00:00, 15.50it/s]\n",
            "Validation: 100%|██████████| 94/94 [00:04<00:00, 20.58it/s]\n"
          ]
        },
        {
          "output_type": "stream",
          "name": "stdout",
          "text": [
            "Epoch: 76 | Epoch Train Time: 0m 20s\n",
            "\tTrain Loss: 0.410 | Train Acc: 86.06%\n",
            "\t Val. Loss: 0.796 |  Val. Acc: 74.43%\n"
          ]
        },
        {
          "output_type": "stream",
          "name": "stderr",
          "text": [
            "Training: 100%|██████████| 313/313 [00:20<00:00, 15.53it/s]\n",
            "Validation: 100%|██████████| 94/94 [00:04<00:00, 19.93it/s]\n"
          ]
        },
        {
          "output_type": "stream",
          "name": "stdout",
          "text": [
            "Epoch: 77 | Epoch Train Time: 0m 20s\n",
            "\tTrain Loss: 0.413 | Train Acc: 85.84%\n",
            "\t Val. Loss: 0.956 |  Val. Acc: 70.63%\n"
          ]
        },
        {
          "output_type": "stream",
          "name": "stderr",
          "text": [
            "Training: 100%|██████████| 313/313 [00:20<00:00, 15.49it/s]\n",
            "Validation: 100%|██████████| 94/94 [00:04<00:00, 19.75it/s]\n"
          ]
        },
        {
          "output_type": "stream",
          "name": "stdout",
          "text": [
            "Epoch: 78 | Epoch Train Time: 0m 20s\n",
            "\tTrain Loss: 0.407 | Train Acc: 86.00%\n",
            "\t Val. Loss: 1.022 |  Val. Acc: 70.03%\n"
          ]
        },
        {
          "output_type": "stream",
          "name": "stderr",
          "text": [
            "Training: 100%|██████████| 313/313 [00:20<00:00, 15.56it/s]\n",
            "Validation: 100%|██████████| 94/94 [00:04<00:00, 20.09it/s]\n"
          ]
        },
        {
          "output_type": "stream",
          "name": "stdout",
          "text": [
            "Epoch: 79 | Epoch Train Time: 0m 20s\n",
            "\tTrain Loss: 0.388 | Train Acc: 86.48%\n",
            "\t Val. Loss: 0.752 |  Val. Acc: 76.10%\n"
          ]
        },
        {
          "output_type": "stream",
          "name": "stderr",
          "text": [
            "Training: 100%|██████████| 313/313 [00:20<00:00, 15.50it/s]\n",
            "Validation: 100%|██████████| 94/94 [00:04<00:00, 20.50it/s]\n"
          ]
        },
        {
          "output_type": "stream",
          "name": "stdout",
          "text": [
            "Epoch: 80 | Epoch Train Time: 0m 20s\n",
            "\tTrain Loss: 0.376 | Train Acc: 87.01%\n",
            "\t Val. Loss: 0.683 |  Val. Acc: 77.47%\n"
          ]
        },
        {
          "output_type": "stream",
          "name": "stderr",
          "text": [
            "Training: 100%|██████████| 313/313 [00:20<00:00, 15.46it/s]\n",
            "Validation: 100%|██████████| 94/94 [00:04<00:00, 20.53it/s]\n"
          ]
        },
        {
          "output_type": "stream",
          "name": "stdout",
          "text": [
            "Epoch: 81 | Epoch Train Time: 0m 20s\n",
            "\tTrain Loss: 0.368 | Train Acc: 87.46%\n",
            "\t Val. Loss: 0.805 |  Val. Acc: 75.43%\n"
          ]
        },
        {
          "output_type": "stream",
          "name": "stderr",
          "text": [
            "Training: 100%|██████████| 313/313 [00:20<00:00, 15.50it/s]\n",
            "Validation: 100%|██████████| 94/94 [00:04<00:00, 20.44it/s]\n"
          ]
        },
        {
          "output_type": "stream",
          "name": "stdout",
          "text": [
            "Epoch: 82 | Epoch Train Time: 0m 20s\n",
            "\tTrain Loss: 0.355 | Train Acc: 87.94%\n",
            "\t Val. Loss: 0.782 |  Val. Acc: 76.43%\n"
          ]
        },
        {
          "output_type": "stream",
          "name": "stderr",
          "text": [
            "Training: 100%|██████████| 313/313 [00:20<00:00, 15.59it/s]\n",
            "Validation: 100%|██████████| 94/94 [00:04<00:00, 20.68it/s]\n"
          ]
        },
        {
          "output_type": "stream",
          "name": "stdout",
          "text": [
            "Epoch: 83 | Epoch Train Time: 0m 20s\n",
            "\tTrain Loss: 0.363 | Train Acc: 87.99%\n",
            "\t Val. Loss: 0.722 |  Val. Acc: 76.80%\n"
          ]
        },
        {
          "output_type": "stream",
          "name": "stderr",
          "text": [
            "Training: 100%|██████████| 313/313 [00:20<00:00, 15.59it/s]\n",
            "Validation: 100%|██████████| 94/94 [00:04<00:00, 20.06it/s]\n"
          ]
        },
        {
          "output_type": "stream",
          "name": "stdout",
          "text": [
            "Epoch: 84 | Epoch Train Time: 0m 20s\n",
            "\tTrain Loss: 0.352 | Train Acc: 87.49%\n",
            "\t Val. Loss: 0.768 |  Val. Acc: 76.87%\n"
          ]
        },
        {
          "output_type": "stream",
          "name": "stderr",
          "text": [
            "Training: 100%|██████████| 313/313 [00:20<00:00, 15.54it/s]\n",
            "Validation: 100%|██████████| 94/94 [00:04<00:00, 19.59it/s]\n"
          ]
        },
        {
          "output_type": "stream",
          "name": "stdout",
          "text": [
            "Epoch: 85 | Epoch Train Time: 0m 20s\n",
            "\tTrain Loss: 0.353 | Train Acc: 87.56%\n",
            "\t Val. Loss: 0.822 |  Val. Acc: 75.80%\n"
          ]
        },
        {
          "output_type": "stream",
          "name": "stderr",
          "text": [
            "Training: 100%|██████████| 313/313 [00:20<00:00, 15.61it/s]\n",
            "Validation: 100%|██████████| 94/94 [00:04<00:00, 19.84it/s]\n"
          ]
        },
        {
          "output_type": "stream",
          "name": "stdout",
          "text": [
            "Epoch: 86 | Epoch Train Time: 0m 20s\n",
            "\tTrain Loss: 0.347 | Train Acc: 87.91%\n",
            "\t Val. Loss: 0.749 |  Val. Acc: 76.80%\n"
          ]
        },
        {
          "output_type": "stream",
          "name": "stderr",
          "text": [
            "Training: 100%|██████████| 313/313 [00:20<00:00, 15.50it/s]\n",
            "Validation: 100%|██████████| 94/94 [00:04<00:00, 20.39it/s]\n"
          ]
        },
        {
          "output_type": "stream",
          "name": "stdout",
          "text": [
            "Epoch: 87 | Epoch Train Time: 0m 20s\n",
            "\tTrain Loss: 0.341 | Train Acc: 88.19%\n",
            "\t Val. Loss: 0.715 |  Val. Acc: 77.60%\n"
          ]
        },
        {
          "output_type": "stream",
          "name": "stderr",
          "text": [
            "Training: 100%|██████████| 313/313 [00:20<00:00, 15.45it/s]\n",
            "Validation: 100%|██████████| 94/94 [00:04<00:00, 20.70it/s]\n"
          ]
        },
        {
          "output_type": "stream",
          "name": "stdout",
          "text": [
            "Epoch: 88 | Epoch Train Time: 0m 20s\n",
            "\tTrain Loss: 0.328 | Train Acc: 88.77%\n",
            "\t Val. Loss: 0.690 |  Val. Acc: 79.33%\n"
          ]
        },
        {
          "output_type": "stream",
          "name": "stderr",
          "text": [
            "Training: 100%|██████████| 313/313 [00:20<00:00, 15.45it/s]\n",
            "Validation: 100%|██████████| 94/94 [00:04<00:00, 20.33it/s]\n"
          ]
        },
        {
          "output_type": "stream",
          "name": "stdout",
          "text": [
            "Epoch: 89 | Epoch Train Time: 0m 20s\n",
            "\tTrain Loss: 0.318 | Train Acc: 89.06%\n",
            "\t Val. Loss: 0.712 |  Val. Acc: 78.50%\n"
          ]
        },
        {
          "output_type": "stream",
          "name": "stderr",
          "text": [
            "Training: 100%|██████████| 313/313 [00:20<00:00, 15.44it/s]\n",
            "Validation: 100%|██████████| 94/94 [00:04<00:00, 20.69it/s]\n"
          ]
        },
        {
          "output_type": "stream",
          "name": "stdout",
          "text": [
            "Epoch: 90 | Epoch Train Time: 0m 20s\n",
            "\tTrain Loss: 0.325 | Train Acc: 88.78%\n",
            "\t Val. Loss: 0.818 |  Val. Acc: 74.83%\n"
          ]
        },
        {
          "output_type": "stream",
          "name": "stderr",
          "text": [
            "Training: 100%|██████████| 313/313 [00:20<00:00, 15.45it/s]\n",
            "Validation: 100%|██████████| 94/94 [00:04<00:00, 20.32it/s]\n"
          ]
        },
        {
          "output_type": "stream",
          "name": "stdout",
          "text": [
            "Epoch: 91 | Epoch Train Time: 0m 20s\n",
            "\tTrain Loss: 0.317 | Train Acc: 89.12%\n",
            "\t Val. Loss: 0.704 |  Val. Acc: 78.33%\n"
          ]
        },
        {
          "output_type": "stream",
          "name": "stderr",
          "text": [
            "Training: 100%|██████████| 313/313 [00:20<00:00, 15.53it/s]\n",
            "Validation: 100%|██████████| 94/94 [00:04<00:00, 19.95it/s]\n"
          ]
        },
        {
          "output_type": "stream",
          "name": "stdout",
          "text": [
            "Epoch: 92 | Epoch Train Time: 0m 20s\n",
            "\tTrain Loss: 0.309 | Train Acc: 89.39%\n",
            "\t Val. Loss: 0.703 |  Val. Acc: 78.97%\n"
          ]
        },
        {
          "output_type": "stream",
          "name": "stderr",
          "text": [
            "Training: 100%|██████████| 313/313 [00:20<00:00, 15.64it/s]\n",
            "Validation: 100%|██████████| 94/94 [00:04<00:00, 19.50it/s]\n"
          ]
        },
        {
          "output_type": "stream",
          "name": "stdout",
          "text": [
            "Epoch: 93 | Epoch Train Time: 0m 20s\n",
            "\tTrain Loss: 0.301 | Train Acc: 89.46%\n",
            "\t Val. Loss: 0.739 |  Val. Acc: 77.07%\n"
          ]
        },
        {
          "output_type": "stream",
          "name": "stderr",
          "text": [
            "Training: 100%|██████████| 313/313 [00:20<00:00, 15.55it/s]\n",
            "Validation: 100%|██████████| 94/94 [00:04<00:00, 20.13it/s]\n"
          ]
        },
        {
          "output_type": "stream",
          "name": "stdout",
          "text": [
            "Epoch: 94 | Epoch Train Time: 0m 20s\n",
            "\tTrain Loss: 0.309 | Train Acc: 89.36%\n",
            "\t Val. Loss: 0.654 |  Val. Acc: 79.57%\n"
          ]
        },
        {
          "output_type": "stream",
          "name": "stderr",
          "text": [
            "Training: 100%|██████████| 313/313 [00:20<00:00, 15.57it/s]\n",
            "Validation: 100%|██████████| 94/94 [00:04<00:00, 20.65it/s]\n"
          ]
        },
        {
          "output_type": "stream",
          "name": "stdout",
          "text": [
            "Epoch: 95 | Epoch Train Time: 0m 20s\n",
            "\tTrain Loss: 0.294 | Train Acc: 89.79%\n",
            "\t Val. Loss: 0.775 |  Val. Acc: 77.93%\n"
          ]
        },
        {
          "output_type": "stream",
          "name": "stderr",
          "text": [
            "Training: 100%|██████████| 313/313 [00:20<00:00, 15.34it/s]\n",
            "Validation: 100%|██████████| 94/94 [00:04<00:00, 19.65it/s]\n"
          ]
        },
        {
          "output_type": "stream",
          "name": "stdout",
          "text": [
            "Epoch: 96 | Epoch Train Time: 0m 20s\n",
            "\tTrain Loss: 0.286 | Train Acc: 90.31%\n",
            "\t Val. Loss: 0.680 |  Val. Acc: 79.03%\n"
          ]
        },
        {
          "output_type": "stream",
          "name": "stderr",
          "text": [
            "Training: 100%|██████████| 313/313 [00:20<00:00, 15.52it/s]\n",
            "Validation: 100%|██████████| 94/94 [00:04<00:00, 20.41it/s]\n"
          ]
        },
        {
          "output_type": "stream",
          "name": "stdout",
          "text": [
            "Epoch: 97 | Epoch Train Time: 0m 20s\n",
            "\tTrain Loss: 0.281 | Train Acc: 90.39%\n",
            "\t Val. Loss: 0.719 |  Val. Acc: 78.90%\n"
          ]
        },
        {
          "output_type": "stream",
          "name": "stderr",
          "text": [
            "Training: 100%|██████████| 313/313 [00:20<00:00, 15.48it/s]\n",
            "Validation: 100%|██████████| 94/94 [00:04<00:00, 20.16it/s]\n"
          ]
        },
        {
          "output_type": "stream",
          "name": "stdout",
          "text": [
            "Epoch: 98 | Epoch Train Time: 0m 20s\n",
            "\tTrain Loss: 0.272 | Train Acc: 90.65%\n",
            "\t Val. Loss: 0.706 |  Val. Acc: 79.60%\n"
          ]
        },
        {
          "output_type": "stream",
          "name": "stderr",
          "text": [
            "Training: 100%|██████████| 313/313 [00:20<00:00, 15.52it/s]\n",
            "Validation: 100%|██████████| 94/94 [00:04<00:00, 19.98it/s]\n"
          ]
        },
        {
          "output_type": "stream",
          "name": "stdout",
          "text": [
            "Epoch: 99 | Epoch Train Time: 0m 20s\n",
            "\tTrain Loss: 0.275 | Train Acc: 90.86%\n",
            "\t Val. Loss: 0.836 |  Val. Acc: 75.23%\n"
          ]
        },
        {
          "output_type": "stream",
          "name": "stderr",
          "text": [
            "Training: 100%|██████████| 313/313 [00:20<00:00, 15.63it/s]\n",
            "Validation: 100%|██████████| 94/94 [00:04<00:00, 20.09it/s]"
          ]
        },
        {
          "output_type": "stream",
          "name": "stdout",
          "text": [
            "Epoch: 100 | Epoch Train Time: 0m 20s\n",
            "\tTrain Loss: 0.264 | Train Acc: 91.13%\n",
            "\t Val. Loss: 0.720 |  Val. Acc: 79.30%\n",
            "Train finished\n",
            "Allocated Memory: 0.10 GB\n",
            "Reserved Memory: 1.40 GB\n"
          ]
        },
        {
          "output_type": "stream",
          "name": "stderr",
          "text": [
            "\n"
          ]
        }
      ],
      "source": [
        "EPOCHS = 100\n",
        "best_valid_loss = float('inf')\n",
        "total_time = 0\n",
        "for epoch in range(EPOCHS):\n",
        "    train_loss, train_acc, start_time, end_time = train(model, train_iterator, criterion, optimizer, device)\n",
        "    valid_loss, valid_acc = evaluate(model, valid_iterator, criterion, device)\n",
        "\n",
        "    #if valid_loss < best_valid_loss:\n",
        "        #best_valid_loss = valid_loss\n",
        "        #torch.save(model.state_dict(), 'vgg19-model.pt')\n",
        "\n",
        "    # end_time = time.monotonic()\n",
        "    epoch_mins, epoch_secs = epoch_time(start_time, end_time)\n",
        "    total_time += end_time - start_time\n",
        "\n",
        "    print(f'Epoch: {epoch+1:02} | Epoch Train Time: {epoch_mins}m {epoch_secs}s')\n",
        "    print(f'\\tTrain Loss: {train_loss:.3f} | Train Acc: {train_acc:.2f}%')\n",
        "    print(f'\\t Val. Loss: {valid_loss:.3f} |  Val. Acc: {valid_acc:.2f}%')\n",
        "\n",
        "print(\"Train finished\")\n",
        "print_gpu_utilization()"
      ]
    },
    {
      "cell_type": "code",
      "source": [
        "print_gpu_utilization()"
      ],
      "metadata": {
        "colab": {
          "base_uri": "https://localhost:8080/"
        },
        "id": "K_RbzQQEX9J5",
        "outputId": "06e56192-40e1-498c-fb6d-fbda475b4bad"
      },
      "execution_count": 29,
      "outputs": [
        {
          "output_type": "stream",
          "name": "stdout",
          "text": [
            "Allocated Memory: 0.10 GB\n",
            "Reserved Memory: 1.40 GB\n"
          ]
        }
      ]
    },
    {
      "cell_type": "code",
      "source": [
        "free_memory, total_memory = torch.cuda.mem_get_info()\n",
        "print(f\"Free memory: {free_memory / 1024**2:.2f} MB\")\n",
        "print(f\"Total memory: {total_memory / 1024**2:.2f} MB\")"
      ],
      "metadata": {
        "colab": {
          "base_uri": "https://localhost:8080/"
        },
        "id": "mddh-LmVYhVe",
        "outputId": "6b3d1a06-3a0f-4e27-fda8-cf40e47ea494"
      },
      "execution_count": 30,
      "outputs": [
        {
          "output_type": "stream",
          "name": "stdout",
          "text": [
            "Free memory: 38556.81 MB\n",
            "Total memory: 40513.81 MB\n"
          ]
        }
      ]
    },
    {
      "cell_type": "code",
      "execution_count": 31,
      "metadata": {
        "id": "0YfjvTjYWIR9",
        "colab": {
          "base_uri": "https://localhost:8080/"
        },
        "outputId": "8fa92096-1dea-4477-d0f2-81f9e337e8a6"
      },
      "outputs": [
        {
          "output_type": "stream",
          "name": "stdout",
          "text": [
            "ResNet18 with dropout\n",
            "Total Training Time: 33m 38s\n"
          ]
        }
      ],
      "source": [
        "print(\"ResNet18 with dropout\")\n",
        "print(f'Total Training Time: {int(total_time/60)}m {int(total_time%60)}s')"
      ]
    }
  ],
  "metadata": {
    "kernelspec": {
      "display_name": "Python 3",
      "name": "python3"
    },
    "language_info": {
      "codemirror_mode": {
        "name": "ipython",
        "version": 3
      },
      "file_extension": ".py",
      "mimetype": "text/x-python",
      "name": "python",
      "nbconvert_exporter": "python",
      "pygments_lexer": "ipython3",
      "version": "3.12.4"
    },
    "colab": {
      "provenance": [],
      "machine_shape": "hm",
      "gpuType": "A100"
    },
    "accelerator": "GPU"
  },
  "nbformat": 4,
  "nbformat_minor": 0
}